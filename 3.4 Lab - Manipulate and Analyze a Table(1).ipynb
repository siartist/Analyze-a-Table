{
 "cells": [
  {
   "cell_type": "markdown",
   "metadata": {
    "application/vnd.databricks.v1+cell": {
     "cellMetadata": {},
     "inputWidgets": {},
     "nuid": "ece9fad0-543d-4d9b-b266-5871a6cd3854",
     "showTitle": false,
     "tableResultSettingsMap": {},
     "title": ""
    }
   },
   "source": [
    "\n",
    "<div style=\"text-align: center; line-height: 0; padding-top: 9px;\">\n",
    "  <img src=\"https://databricks.com/wp-content/uploads/2018/03/db-academy-rgb-1200px.png\" alt=\"Databricks Learning\">\n",
    "</div>\n"
   ]
  },
  {
   "cell_type": "markdown",
   "metadata": {
    "application/vnd.databricks.v1+cell": {
     "cellMetadata": {},
     "inputWidgets": {},
     "nuid": "9a829299-911c-4d4e-a226-adbe8f5ba3fa",
     "showTitle": false,
     "tableResultSettingsMap": {},
     "title": ""
    }
   },
   "source": [
    "# 3.4 Lab - Manipulate and Analyze a Table\n",
    "\n",
    "### Duration: ~15-20 minutes\n",
    "\n",
    "In this lab, you will manipulate a **bronze layer** table to create a **silver layer** table. Then, you will create a scheduled **materialized view** to perform some simple analysis on the table and refresh it daily.\n",
    "\n",
    "\n",
    "### Objectives\n",
    "- Apply basic data transformation techniques to clean and structure raw data for further analysis\n",
    "- Combine data from multiple sources and perform necessary operations to derive meaningful insights\n",
    "- Create and manage views that aggregate data and automate refresh processes for improved and more efficient analysis."
   ]
  },
  {
   "cell_type": "markdown",
   "metadata": {
    "application/vnd.databricks.v1+cell": {
     "cellMetadata": {},
     "inputWidgets": {},
     "nuid": "1b10df41-733a-402f-b7bb-8371f7ff0034",
     "showTitle": false,
     "tableResultSettingsMap": {},
     "title": ""
    }
   },
   "source": [
    "## REQUIRED - SELECT A SHARED SQL WAREHOUSE\n",
    "\n",
    "Before executing cells in this notebook, please select the **SHARED SQL WAREHOUSE** in the lab. Follow these steps:\n",
    "\n",
    "1. Navigate to the top-right of this notebook and click the drop-down to select compute (it might say **Connect**). Complete one of the following below:\n",
    "\n",
    "   a. Under **Recent resources**, check to see if you have a **shared_warehouse SQL**. If you do, select it.\n",
    "\n",
    "   b. If you do not have a **shared_warehouse** under **Recent resources**, complete the following:\n",
    "\n",
    "    - In the same drop-down, select **More**.\n",
    "\n",
    "    - Then select the **SQL Warehouse** button.\n",
    "\n",
    "    - In the drop-down, make sure **shared_warehouse** is selected.\n",
    "\n",
    "    - Then, at the bottom of the pop-up, select **Start and attach**.\n",
    "\n",
    "<br></br>\n",
    "   <img src=\"../Includes/images/sql_warehouse.png\" alt=\"SQL Warehouse\" width=\"600\">"
   ]
  },
  {
   "cell_type": "markdown",
   "metadata": {
    "application/vnd.databricks.v1+cell": {
     "cellMetadata": {},
     "inputWidgets": {},
     "nuid": "70b0ec5e-1f6f-4677-8f5d-e33ef3c19fef",
     "showTitle": false,
     "tableResultSettingsMap": {},
     "title": ""
    }
   },
   "source": [
    "## A. Classroom Setup\n",
    "\n",
    "Run the following cell to configure your working environment for this notebook.\n",
    "\n",
    "**NOTE:** The `DA` object is only used in Databricks Academy courses and is not available outside of these courses. It will dynamically reference the information needed to run the course in the lab environment.\n",
    "\n",
    "### IMPORTANT LAB INFORMATION\n",
    "\n",
    "Recall that your lab setup is created with the [0 - REQUIRED - Course Setup]($../0 - REQUIRED - Course Setup and Data Discovery) notebook. If you end your lab session or if your session times out, your environment will be reset, and you will need to rerun the Course Setup notebook."
   ]
  },
  {
   "cell_type": "code",
   "execution_count": 0,
   "metadata": {
    "application/vnd.databricks.v1+cell": {
     "cellMetadata": {
      "byteLimit": 2048000,
      "rowLimit": 10000
     },
     "inputWidgets": {},
     "nuid": "af9fc174-ed45-4007-8fc4-bc80b5bb5bbd",
     "showTitle": false,
     "tableResultSettingsMap": {},
     "title": ""
    }
   },
   "outputs": [
    {
     "output_type": "display_data",
     "data": {
      "text/html": [
       "<style scoped>\n",
       "  .table-result-container {\n",
       "    max-height: 300px;\n",
       "    overflow: auto;\n",
       "  }\n",
       "  table, th, td {\n",
       "    border: 1px solid black;\n",
       "    border-collapse: collapse;\n",
       "  }\n",
       "  th, td {\n",
       "    padding: 5px;\n",
       "  }\n",
       "  th {\n",
       "    text-align: left;\n",
       "  }\n",
       "</style><div class='table-result-container'><table class='table-result'><thead style='background-color: white'><tr></tr></thead><tbody></tbody></table></div>"
      ]
     },
     "metadata": {
      "application/vnd.databricks.v1+output": {
       "addedWidgets": {},
       "aggData": [],
       "aggError": "",
       "aggOverflow": false,
       "aggSchema": [],
       "aggSeriesLimitReached": false,
       "aggType": "",
       "arguments": {},
       "columnCustomDisplayInfos": {},
       "data": [],
       "datasetInfos": [],
       "dbfsResultPath": null,
       "isJsonSchema": true,
       "metadata": {},
       "overflow": false,
       "plotOptions": {
        "customPlotOptions": {},
        "displayType": "table",
        "pivotAggregation": null,
        "pivotColumns": null,
        "xColumns": null,
        "yColumns": null
       },
       "removedWidgets": [],
       "schema": [],
       "type": "table"
      }
     },
     "output_type": "display_data"
    },
    {
     "output_type": "display_data",
     "data": {
      "text/html": [
       "<style scoped>\n",
       "  .table-result-container {\n",
       "    max-height: 300px;\n",
       "    overflow: auto;\n",
       "  }\n",
       "  table, th, td {\n",
       "    border: 1px solid black;\n",
       "    border-collapse: collapse;\n",
       "  }\n",
       "  th, td {\n",
       "    padding: 5px;\n",
       "  }\n",
       "  th {\n",
       "    text-align: left;\n",
       "  }\n",
       "</style><div class='table-result-container'><table class='table-result'><thead style='background-color: white'><tr></tr></thead><tbody></tbody></table></div>"
      ]
     },
     "metadata": {
      "application/vnd.databricks.v1+output": {
       "addedWidgets": {},
       "aggData": [],
       "aggError": "",
       "aggOverflow": false,
       "aggSchema": [],
       "aggSeriesLimitReached": false,
       "aggType": "",
       "arguments": {},
       "columnCustomDisplayInfos": {},
       "data": [],
       "datasetInfos": [],
       "dbfsResultPath": null,
       "isJsonSchema": true,
       "metadata": {},
       "overflow": false,
       "plotOptions": {
        "customPlotOptions": {},
        "displayType": "table",
        "pivotAggregation": null,
        "pivotColumns": null,
        "xColumns": null,
        "yColumns": null
       },
       "removedWidgets": [],
       "schema": [],
       "type": "table"
      }
     },
     "output_type": "display_data"
    },
    {
     "output_type": "display_data",
     "data": {
      "text/html": [
       "<style scoped>\n",
       "  .table-result-container {\n",
       "    max-height: 300px;\n",
       "    overflow: auto;\n",
       "  }\n",
       "  table, th, td {\n",
       "    border: 1px solid black;\n",
       "    border-collapse: collapse;\n",
       "  }\n",
       "  th, td {\n",
       "    padding: 5px;\n",
       "  }\n",
       "  th {\n",
       "    text-align: left;\n",
       "  }\n",
       "</style><div class='table-result-container'><table class='table-result'><thead style='background-color: white'><tr></tr></thead><tbody></tbody></table></div>"
      ]
     },
     "metadata": {
      "application/vnd.databricks.v1+output": {
       "addedWidgets": {},
       "aggData": [],
       "aggError": "",
       "aggOverflow": false,
       "aggSchema": [],
       "aggSeriesLimitReached": false,
       "aggType": "",
       "arguments": {},
       "columnCustomDisplayInfos": {},
       "data": [],
       "datasetInfos": [],
       "dbfsResultPath": null,
       "isJsonSchema": true,
       "metadata": {},
       "overflow": false,
       "plotOptions": {
        "customPlotOptions": {},
        "displayType": "table",
        "pivotAggregation": null,
        "pivotColumns": null,
        "xColumns": null,
        "yColumns": null
       },
       "removedWidgets": [],
       "schema": [],
       "type": "table"
      }
     },
     "output_type": "display_data"
    },
    {
     "output_type": "display_data",
     "data": {
      "text/html": [
       "<style scoped>\n",
       "  .table-result-container {\n",
       "    max-height: 300px;\n",
       "    overflow: auto;\n",
       "  }\n",
       "  table, th, td {\n",
       "    border: 1px solid black;\n",
       "    border-collapse: collapse;\n",
       "  }\n",
       "  th, td {\n",
       "    padding: 5px;\n",
       "  }\n",
       "  th {\n",
       "    text-align: left;\n",
       "  }\n",
       "</style><div class='table-result-container'><table class='table-result'><thead style='background-color: white'><tr></tr></thead><tbody></tbody></table></div>"
      ]
     },
     "metadata": {
      "application/vnd.databricks.v1+output": {
       "addedWidgets": {},
       "aggData": [],
       "aggError": "",
       "aggOverflow": false,
       "aggSchema": [],
       "aggSeriesLimitReached": false,
       "aggType": "",
       "arguments": {},
       "columnCustomDisplayInfos": {},
       "data": [],
       "datasetInfos": [],
       "dbfsResultPath": null,
       "isJsonSchema": true,
       "metadata": {},
       "overflow": false,
       "plotOptions": {
        "customPlotOptions": {},
        "displayType": "table",
        "pivotAggregation": null,
        "pivotColumns": null,
        "xColumns": null,
        "yColumns": null
       },
       "removedWidgets": [],
       "schema": [],
       "type": "table"
      }
     },
     "output_type": "display_data"
    },
    {
     "output_type": "display_data",
     "data": {
      "text/html": [
       "<style scoped>\n",
       "  .table-result-container {\n",
       "    max-height: 300px;\n",
       "    overflow: auto;\n",
       "  }\n",
       "  table, th, td {\n",
       "    border: 1px solid black;\n",
       "    border-collapse: collapse;\n",
       "  }\n",
       "  th, td {\n",
       "    padding: 5px;\n",
       "  }\n",
       "  th {\n",
       "    text-align: left;\n",
       "  }\n",
       "</style><div class='table-result-container'><table class='table-result'><thead style='background-color: white'><tr></tr></thead><tbody></tbody></table></div>"
      ]
     },
     "metadata": {
      "application/vnd.databricks.v1+output": {
       "addedWidgets": {},
       "aggData": [],
       "aggError": "",
       "aggOverflow": false,
       "aggSchema": [],
       "aggSeriesLimitReached": false,
       "aggType": "",
       "arguments": {},
       "columnCustomDisplayInfos": {},
       "data": [],
       "datasetInfos": [],
       "dbfsResultPath": null,
       "isJsonSchema": true,
       "metadata": {},
       "overflow": false,
       "plotOptions": {
        "customPlotOptions": {},
        "displayType": "table",
        "pivotAggregation": null,
        "pivotColumns": null,
        "xColumns": null,
        "yColumns": null
       },
       "removedWidgets": [],
       "schema": [],
       "type": "table"
      }
     },
     "output_type": "display_data"
    },
    {
     "output_type": "display_data",
     "data": {
      "text/html": [
       "<style scoped>\n",
       "  .table-result-container {\n",
       "    max-height: 300px;\n",
       "    overflow: auto;\n",
       "  }\n",
       "  table, th, td {\n",
       "    border: 1px solid black;\n",
       "    border-collapse: collapse;\n",
       "  }\n",
       "  th, td {\n",
       "    padding: 5px;\n",
       "  }\n",
       "  th {\n",
       "    text-align: left;\n",
       "  }\n",
       "</style><div class='table-result-container'><table class='table-result'><thead style='background-color: white'><tr></tr></thead><tbody></tbody></table></div>"
      ]
     },
     "metadata": {
      "application/vnd.databricks.v1+output": {
       "addedWidgets": {},
       "aggData": [],
       "aggError": "",
       "aggOverflow": false,
       "aggSchema": [],
       "aggSeriesLimitReached": false,
       "aggType": "",
       "arguments": {},
       "columnCustomDisplayInfos": {},
       "data": [],
       "datasetInfos": [],
       "dbfsResultPath": null,
       "isJsonSchema": true,
       "metadata": {},
       "overflow": false,
       "plotOptions": {
        "customPlotOptions": {},
        "displayType": "table",
        "pivotAggregation": null,
        "pivotColumns": null,
        "xColumns": null,
        "yColumns": null
       },
       "removedWidgets": [],
       "schema": [],
       "type": "table"
      }
     },
     "output_type": "display_data"
    },
    {
     "output_type": "display_data",
     "data": {
      "text/html": [
       "<style scoped>\n",
       "  .table-result-container {\n",
       "    max-height: 300px;\n",
       "    overflow: auto;\n",
       "  }\n",
       "  table, th, td {\n",
       "    border: 1px solid black;\n",
       "    border-collapse: collapse;\n",
       "  }\n",
       "  th, td {\n",
       "    padding: 5px;\n",
       "  }\n",
       "  th {\n",
       "    text-align: left;\n",
       "  }\n",
       "</style><div class='table-result-container'><table class='table-result'><thead style='background-color: white'><tr></tr></thead><tbody></tbody></table></div>"
      ]
     },
     "metadata": {
      "application/vnd.databricks.v1+output": {
       "addedWidgets": {},
       "aggData": [],
       "aggError": "",
       "aggOverflow": false,
       "aggSchema": [],
       "aggSeriesLimitReached": false,
       "aggType": "",
       "arguments": {},
       "columnCustomDisplayInfos": {},
       "data": [],
       "datasetInfos": [],
       "dbfsResultPath": null,
       "isJsonSchema": true,
       "metadata": {},
       "overflow": false,
       "plotOptions": {
        "customPlotOptions": {},
        "displayType": "table",
        "pivotAggregation": null,
        "pivotColumns": null,
        "xColumns": null,
        "yColumns": null
       },
       "removedWidgets": [],
       "schema": [],
       "type": "table"
      }
     },
     "output_type": "display_data"
    },
    {
     "output_type": "display_data",
     "data": {
      "text/html": [
       "<style scoped>\n",
       "  .table-result-container {\n",
       "    max-height: 300px;\n",
       "    overflow: auto;\n",
       "  }\n",
       "  table, th, td {\n",
       "    border: 1px solid black;\n",
       "    border-collapse: collapse;\n",
       "  }\n",
       "  th, td {\n",
       "    padding: 5px;\n",
       "  }\n",
       "  th {\n",
       "    text-align: left;\n",
       "  }\n",
       "</style><div class='table-result-container'><table class='table-result'><thead style='background-color: white'><tr></tr></thead><tbody></tbody></table></div>"
      ]
     },
     "metadata": {
      "application/vnd.databricks.v1+output": {
       "addedWidgets": {},
       "aggData": [],
       "aggError": "",
       "aggOverflow": false,
       "aggSchema": [],
       "aggSeriesLimitReached": false,
       "aggType": "",
       "arguments": {},
       "columnCustomDisplayInfos": {},
       "data": [],
       "datasetInfos": [],
       "dbfsResultPath": null,
       "isJsonSchema": true,
       "metadata": {},
       "overflow": false,
       "plotOptions": {
        "customPlotOptions": {},
        "displayType": "table",
        "pivotAggregation": null,
        "pivotColumns": null,
        "xColumns": null,
        "yColumns": null
       },
       "removedWidgets": [],
       "schema": [],
       "type": "table"
      }
     },
     "output_type": "display_data"
    },
    {
     "output_type": "display_data",
     "data": {
      "text/html": [
       "<style scoped>\n",
       "  .table-result-container {\n",
       "    max-height: 300px;\n",
       "    overflow: auto;\n",
       "  }\n",
       "  table, th, td {\n",
       "    border: 1px solid black;\n",
       "    border-collapse: collapse;\n",
       "  }\n",
       "  th, td {\n",
       "    padding: 5px;\n",
       "  }\n",
       "  th {\n",
       "    text-align: left;\n",
       "  }\n",
       "</style><div class='table-result-container'><table class='table-result'><thead style='background-color: white'><tr><th>table_status</th></tr></thead><tbody><tr><td>Lab Check, all tables available for your lab!</td></tr></tbody></table></div>"
      ]
     },
     "metadata": {
      "application/vnd.databricks.v1+output": {
       "addedWidgets": {},
       "aggData": [],
       "aggError": "",
       "aggOverflow": false,
       "aggSchema": [],
       "aggSeriesLimitReached": false,
       "aggType": "",
       "arguments": {},
       "columnCustomDisplayInfos": {},
       "data": [
        [
         "Lab Check, all tables available for your lab!"
        ]
       ],
       "datasetInfos": [],
       "dbfsResultPath": null,
       "isJsonSchema": true,
       "metadata": {},
       "overflow": false,
       "plotOptions": {
        "customPlotOptions": {},
        "displayType": "table",
        "pivotAggregation": null,
        "pivotColumns": null,
        "xColumns": null,
        "yColumns": null
       },
       "removedWidgets": [],
       "schema": [
        {
         "metadata": "{}",
         "name": "table_status",
         "type": "\"string\""
        }
       ],
       "type": "table"
      }
     },
     "output_type": "display_data"
    },
    {
     "output_type": "display_data",
     "data": {
      "text/html": [
       "<style scoped>\n",
       "  .table-result-container {\n",
       "    max-height: 300px;\n",
       "    overflow: auto;\n",
       "  }\n",
       "  table, th, td {\n",
       "    border: 1px solid black;\n",
       "    border-collapse: collapse;\n",
       "  }\n",
       "  th, td {\n",
       "    padding: 5px;\n",
       "  }\n",
       "  th {\n",
       "    text-align: left;\n",
       "  }\n",
       "</style><div class='table-result-container'><table class='table-result'><thead style='background-color: white'><tr></tr></thead><tbody></tbody></table></div>"
      ]
     },
     "metadata": {
      "application/vnd.databricks.v1+output": {
       "addedWidgets": {},
       "aggData": [],
       "aggError": "",
       "aggOverflow": false,
       "aggSchema": [],
       "aggSeriesLimitReached": false,
       "aggType": "",
       "arguments": {},
       "columnCustomDisplayInfos": {},
       "data": [],
       "datasetInfos": [],
       "dbfsResultPath": null,
       "isJsonSchema": true,
       "metadata": {},
       "overflow": false,
       "plotOptions": {
        "customPlotOptions": {},
        "displayType": "table",
        "pivotAggregation": null,
        "pivotColumns": null,
        "xColumns": null,
        "yColumns": null
       },
       "removedWidgets": [],
       "schema": [],
       "type": "table"
      }
     },
     "output_type": "display_data"
    },
    {
     "output_type": "display_data",
     "data": {
      "text/html": [
       "<style scoped>\n",
       "  .table-result-container {\n",
       "    max-height: 300px;\n",
       "    overflow: auto;\n",
       "  }\n",
       "  table, th, td {\n",
       "    border: 1px solid black;\n",
       "    border-collapse: collapse;\n",
       "  }\n",
       "  th, td {\n",
       "    padding: 5px;\n",
       "  }\n",
       "  th {\n",
       "    text-align: left;\n",
       "  }\n",
       "</style><div class='table-result-container'><table class='table-result'><thead style='background-color: white'><tr></tr></thead><tbody></tbody></table></div>"
      ]
     },
     "metadata": {
      "application/vnd.databricks.v1+output": {
       "addedWidgets": {},
       "aggData": [],
       "aggError": "",
       "aggOverflow": false,
       "aggSchema": [],
       "aggSeriesLimitReached": false,
       "aggType": "",
       "arguments": {},
       "columnCustomDisplayInfos": {},
       "data": [],
       "datasetInfos": [],
       "dbfsResultPath": null,
       "isJsonSchema": true,
       "metadata": {},
       "overflow": false,
       "plotOptions": {
        "customPlotOptions": {},
        "displayType": "table",
        "pivotAggregation": null,
        "pivotColumns": null,
        "xColumns": null,
        "yColumns": null
       },
       "removedWidgets": [],
       "schema": [],
       "type": "table"
      }
     },
     "output_type": "display_data"
    },
    {
     "output_type": "display_data",
     "data": {
      "text/html": [
       "<style scoped>\n",
       "  .table-result-container {\n",
       "    max-height: 300px;\n",
       "    overflow: auto;\n",
       "  }\n",
       "  table, th, td {\n",
       "    border: 1px solid black;\n",
       "    border-collapse: collapse;\n",
       "  }\n",
       "  th, td {\n",
       "    padding: 5px;\n",
       "  }\n",
       "  th {\n",
       "    text-align: left;\n",
       "  }\n",
       "</style><div class='table-result-container'><table class='table-result'><thead style='background-color: white'><tr></tr></thead><tbody></tbody></table></div>"
      ]
     },
     "metadata": {
      "application/vnd.databricks.v1+output": {
       "addedWidgets": {},
       "aggData": [],
       "aggError": "",
       "aggOverflow": false,
       "aggSchema": [],
       "aggSeriesLimitReached": false,
       "aggType": "",
       "arguments": {},
       "columnCustomDisplayInfos": {},
       "data": [],
       "datasetInfos": [],
       "dbfsResultPath": null,
       "isJsonSchema": true,
       "metadata": {},
       "overflow": false,
       "plotOptions": {
        "customPlotOptions": {},
        "displayType": "table",
        "pivotAggregation": null,
        "pivotColumns": null,
        "xColumns": null,
        "yColumns": null
       },
       "removedWidgets": [],
       "schema": [],
       "type": "table"
      }
     },
     "output_type": "display_data"
    },
    {
     "output_type": "display_data",
     "data": {
      "text/html": [
       "<style scoped>\n",
       "  .table-result-container {\n",
       "    max-height: 300px;\n",
       "    overflow: auto;\n",
       "  }\n",
       "  table, th, td {\n",
       "    border: 1px solid black;\n",
       "    border-collapse: collapse;\n",
       "  }\n",
       "  th, td {\n",
       "    padding: 5px;\n",
       "  }\n",
       "  th {\n",
       "    text-align: left;\n",
       "  }\n",
       "</style><div class='table-result-container'><table class='table-result'><thead style='background-color: white'><tr></tr></thead><tbody></tbody></table></div>"
      ]
     },
     "metadata": {
      "application/vnd.databricks.v1+output": {
       "addedWidgets": {},
       "aggData": [],
       "aggError": "",
       "aggOverflow": false,
       "aggSchema": [],
       "aggSeriesLimitReached": false,
       "aggType": "",
       "arguments": {},
       "columnCustomDisplayInfos": {},
       "data": [],
       "datasetInfos": [],
       "dbfsResultPath": null,
       "isJsonSchema": true,
       "metadata": {},
       "overflow": false,
       "plotOptions": {
        "customPlotOptions": {},
        "displayType": "table",
        "pivotAggregation": null,
        "pivotColumns": null,
        "xColumns": null,
        "yColumns": null
       },
       "removedWidgets": [],
       "schema": [],
       "type": "table"
      }
     },
     "output_type": "display_data"
    },
    {
     "output_type": "display_data",
     "data": {
      "text/html": [
       "<style scoped>\n",
       "  .table-result-container {\n",
       "    max-height: 300px;\n",
       "    overflow: auto;\n",
       "  }\n",
       "  table, th, td {\n",
       "    border: 1px solid black;\n",
       "    border-collapse: collapse;\n",
       "  }\n",
       "  th, td {\n",
       "    padding: 5px;\n",
       "  }\n",
       "  th {\n",
       "    text-align: left;\n",
       "  }\n",
       "</style><div class='table-result-container'><table class='table-result'><thead style='background-color: white'><tr><th>num_affected_rows</th><th>num_inserted_rows</th></tr></thead><tbody><tr><td>50</td><td>50</td></tr></tbody></table></div>"
      ]
     },
     "metadata": {
      "application/vnd.databricks.v1+output": {
       "addedWidgets": {},
       "aggData": [],
       "aggError": "",
       "aggOverflow": false,
       "aggSchema": [],
       "aggSeriesLimitReached": false,
       "aggType": "",
       "arguments": {},
       "columnCustomDisplayInfos": {},
       "data": [
        [
         50,
         50
        ]
       ],
       "datasetInfos": [],
       "dbfsResultPath": null,
       "isJsonSchema": true,
       "metadata": {},
       "overflow": false,
       "plotOptions": {
        "customPlotOptions": {},
        "displayType": "table",
        "pivotAggregation": null,
        "pivotColumns": null,
        "xColumns": null,
        "yColumns": null
       },
       "removedWidgets": [],
       "schema": [
        {
         "metadata": "{}",
         "name": "num_affected_rows",
         "type": "\"long\""
        },
        {
         "metadata": "{}",
         "name": "num_inserted_rows",
         "type": "\"long\""
        }
       ],
       "type": "table"
      }
     },
     "output_type": "display_data"
    },
    {
     "output_type": "display_data",
     "data": {
      "text/html": [
       "<style scoped>\n",
       "  .table-result-container {\n",
       "    max-height: 300px;\n",
       "    overflow: auto;\n",
       "  }\n",
       "  table, th, td {\n",
       "    border: 1px solid black;\n",
       "    border-collapse: collapse;\n",
       "  }\n",
       "  th, td {\n",
       "    padding: 5px;\n",
       "  }\n",
       "  th {\n",
       "    text-align: left;\n",
       "  }\n",
       "</style><div class='table-result-container'><table class='table-result'><thead style='background-color: white'><tr></tr></thead><tbody></tbody></table></div>"
      ]
     },
     "metadata": {
      "application/vnd.databricks.v1+output": {
       "addedWidgets": {},
       "aggData": [],
       "aggError": "",
       "aggOverflow": false,
       "aggSchema": [],
       "aggSeriesLimitReached": false,
       "aggType": "",
       "arguments": {},
       "columnCustomDisplayInfos": {},
       "data": [],
       "datasetInfos": [],
       "dbfsResultPath": null,
       "isJsonSchema": true,
       "metadata": {},
       "overflow": false,
       "plotOptions": {
        "customPlotOptions": {},
        "displayType": "table",
        "pivotAggregation": null,
        "pivotColumns": null,
        "xColumns": null,
        "yColumns": null
       },
       "removedWidgets": [],
       "schema": [],
       "type": "table"
      }
     },
     "output_type": "display_data"
    },
    {
     "output_type": "display_data",
     "data": {
      "text/html": [
       "<style scoped>\n",
       "  .table-result-container {\n",
       "    max-height: 300px;\n",
       "    overflow: auto;\n",
       "  }\n",
       "  table, th, td {\n",
       "    border: 1px solid black;\n",
       "    border-collapse: collapse;\n",
       "  }\n",
       "  th, td {\n",
       "    padding: 5px;\n",
       "  }\n",
       "  th {\n",
       "    text-align: left;\n",
       "  }\n",
       "</style><div class='table-result-container'><table class='table-result'><thead style='background-color: white'><tr></tr></thead><tbody></tbody></table></div>"
      ]
     },
     "metadata": {
      "application/vnd.databricks.v1+output": {
       "addedWidgets": {},
       "aggData": [],
       "aggError": "",
       "aggOverflow": false,
       "aggSchema": [],
       "aggSeriesLimitReached": false,
       "aggType": "",
       "arguments": {},
       "columnCustomDisplayInfos": {},
       "data": [],
       "datasetInfos": [],
       "dbfsResultPath": null,
       "isJsonSchema": true,
       "metadata": {},
       "overflow": false,
       "plotOptions": {
        "customPlotOptions": {},
        "displayType": "table",
        "pivotAggregation": null,
        "pivotColumns": null,
        "xColumns": null,
        "yColumns": null
       },
       "removedWidgets": [],
       "schema": [],
       "type": "table"
      }
     },
     "output_type": "display_data"
    },
    {
     "output_type": "display_data",
     "data": {
      "text/html": [
       "<style scoped>\n",
       "  .table-result-container {\n",
       "    max-height: 300px;\n",
       "    overflow: auto;\n",
       "  }\n",
       "  table, th, td {\n",
       "    border: 1px solid black;\n",
       "    border-collapse: collapse;\n",
       "  }\n",
       "  th, td {\n",
       "    padding: 5px;\n",
       "  }\n",
       "  th {\n",
       "    text-align: left;\n",
       "  }\n",
       "</style><div class='table-result-container'><table class='table-result'><thead style='background-color: white'><tr><th>num_affected_rows</th><th>num_inserted_rows</th><th>num_skipped_corrupt_files</th></tr></thead><tbody><tr><td>1467</td><td>1467</td><td>0</td></tr></tbody></table></div>"
      ]
     },
     "metadata": {
      "application/vnd.databricks.v1+output": {
       "addedWidgets": {},
       "aggData": [],
       "aggError": "",
       "aggOverflow": false,
       "aggSchema": [],
       "aggSeriesLimitReached": false,
       "aggType": "",
       "arguments": {},
       "columnCustomDisplayInfos": {},
       "data": [
        [
         1467,
         1467,
         0
        ]
       ],
       "datasetInfos": [],
       "dbfsResultPath": null,
       "isJsonSchema": true,
       "metadata": {},
       "overflow": false,
       "plotOptions": {
        "customPlotOptions": {},
        "displayType": "table",
        "pivotAggregation": null,
        "pivotColumns": null,
        "xColumns": null,
        "yColumns": null
       },
       "removedWidgets": [],
       "schema": [
        {
         "metadata": "{}",
         "name": "num_affected_rows",
         "type": "\"long\""
        },
        {
         "metadata": "{}",
         "name": "num_inserted_rows",
         "type": "\"long\""
        },
        {
         "metadata": "{}",
         "name": "num_skipped_corrupt_files",
         "type": "\"integer\""
        }
       ],
       "type": "table"
      }
     },
     "output_type": "display_data"
    },
    {
     "output_type": "display_data",
     "data": {
      "text/html": [
       "<style scoped>\n",
       "  .table-result-container {\n",
       "    max-height: 300px;\n",
       "    overflow: auto;\n",
       "  }\n",
       "  table, th, td {\n",
       "    border: 1px solid black;\n",
       "    border-collapse: collapse;\n",
       "  }\n",
       "  th, td {\n",
       "    padding: 5px;\n",
       "  }\n",
       "  th {\n",
       "    text-align: left;\n",
       "  }\n",
       "</style><div class='table-result-container'><table class='table-result'><thead style='background-color: white'><tr><th>num_affected_rows</th><th>num_inserted_rows</th></tr></thead><tbody></tbody></table></div>"
      ]
     },
     "metadata": {
      "application/vnd.databricks.v1+output": {
       "addedWidgets": {},
       "aggData": [],
       "aggError": "",
       "aggOverflow": false,
       "aggSchema": [],
       "aggSeriesLimitReached": false,
       "aggType": "",
       "arguments": {},
       "columnCustomDisplayInfos": {},
       "data": [],
       "datasetInfos": [],
       "dbfsResultPath": null,
       "isJsonSchema": true,
       "metadata": {},
       "overflow": false,
       "plotOptions": {
        "customPlotOptions": {},
        "displayType": "table",
        "pivotAggregation": null,
        "pivotColumns": null,
        "xColumns": null,
        "yColumns": null
       },
       "removedWidgets": [],
       "schema": [
        {
         "metadata": "{}",
         "name": "num_affected_rows",
         "type": "\"long\""
        },
        {
         "metadata": "{}",
         "name": "num_inserted_rows",
         "type": "\"long\""
        }
       ],
       "type": "table"
      }
     },
     "output_type": "display_data"
    },
    {
     "output_type": "display_data",
     "data": {
      "text/html": [
       "<style scoped>\n",
       "  .table-result-container {\n",
       "    max-height: 300px;\n",
       "    overflow: auto;\n",
       "  }\n",
       "  table, th, td {\n",
       "    border: 1px solid black;\n",
       "    border-collapse: collapse;\n",
       "  }\n",
       "  th, td {\n",
       "    padding: 5px;\n",
       "  }\n",
       "  th {\n",
       "    text-align: left;\n",
       "  }\n",
       "</style><div class='table-result-container'><table class='table-result'><thead style='background-color: white'><tr></tr></thead><tbody></tbody></table></div>"
      ]
     },
     "metadata": {
      "application/vnd.databricks.v1+output": {
       "addedWidgets": {},
       "aggData": [],
       "aggError": "",
       "aggOverflow": false,
       "aggSchema": [],
       "aggSeriesLimitReached": false,
       "aggType": "",
       "arguments": {},
       "columnCustomDisplayInfos": {},
       "data": [],
       "datasetInfos": [],
       "dbfsResultPath": null,
       "isJsonSchema": true,
       "metadata": {},
       "overflow": false,
       "plotOptions": {
        "customPlotOptions": {},
        "displayType": "table",
        "pivotAggregation": null,
        "pivotColumns": null,
        "xColumns": null,
        "yColumns": null
       },
       "removedWidgets": [],
       "schema": [],
       "type": "table"
      }
     },
     "output_type": "display_data"
    }
   ],
   "source": [
    "%run ../Includes/3.4-Classroom-Setup"
   ]
  },
  {
   "cell_type": "markdown",
   "metadata": {
    "application/vnd.databricks.v1+cell": {
     "cellMetadata": {},
     "inputWidgets": {},
     "nuid": "bfcf88d8-9c92-4197-835e-49baa94a95d1",
     "showTitle": false,
     "tableResultSettingsMap": {},
     "title": ""
    }
   },
   "source": [
    "Run the following cell to set and view your default catalog and schema. Confirm that your default catalog is **dbacademy** and your schema is **labuser** (this uses the `DA.schema_name` variable created in the classroom setup script).\n",
    "\n",
    "The default catalog and schema are pre-configured for you in the cell below. This eliminates the need to specify the three-level name for your tables (i.e., catalog.schema.table). All tables will be read from and written to your **dbacademy.labuser** schema."
   ]
  },
  {
   "cell_type": "code",
   "execution_count": 0,
   "metadata": {
    "application/vnd.databricks.v1+cell": {
     "cellMetadata": {
      "byteLimit": 2048000,
      "rowLimit": 10000
     },
     "inputWidgets": {},
     "nuid": "0d279c4d-b736-4040-9fc0-626707b5617e",
     "showTitle": false,
     "tableResultSettingsMap": {},
     "title": ""
    }
   },
   "outputs": [
    {
     "output_type": "display_data",
     "data": {
      "text/html": [
       "<style scoped>\n",
       "  .table-result-container {\n",
       "    max-height: 300px;\n",
       "    overflow: auto;\n",
       "  }\n",
       "  table, th, td {\n",
       "    border: 1px solid black;\n",
       "    border-collapse: collapse;\n",
       "  }\n",
       "  th, td {\n",
       "    padding: 5px;\n",
       "  }\n",
       "  th {\n",
       "    text-align: left;\n",
       "  }\n",
       "</style><div class='table-result-container'><table class='table-result'><thead style='background-color: white'><tr></tr></thead><tbody></tbody></table></div>"
      ]
     },
     "metadata": {
      "application/vnd.databricks.v1+output": {
       "addedWidgets": {},
       "aggData": [],
       "aggError": "",
       "aggOverflow": false,
       "aggSchema": [],
       "aggSeriesLimitReached": false,
       "aggType": "",
       "arguments": {},
       "columnCustomDisplayInfos": {},
       "data": [],
       "datasetInfos": [],
       "dbfsResultPath": null,
       "isJsonSchema": true,
       "metadata": {},
       "overflow": false,
       "plotOptions": {
        "customPlotOptions": {},
        "displayType": "table",
        "pivotAggregation": null,
        "pivotColumns": null,
        "xColumns": null,
        "yColumns": null
       },
       "removedWidgets": [],
       "schema": [],
       "type": "table"
      }
     },
     "output_type": "display_data"
    },
    {
     "output_type": "display_data",
     "data": {
      "text/html": [
       "<style scoped>\n",
       "  .table-result-container {\n",
       "    max-height: 300px;\n",
       "    overflow: auto;\n",
       "  }\n",
       "  table, th, td {\n",
       "    border: 1px solid black;\n",
       "    border-collapse: collapse;\n",
       "  }\n",
       "  th, td {\n",
       "    padding: 5px;\n",
       "  }\n",
       "  th {\n",
       "    text-align: left;\n",
       "  }\n",
       "</style><div class='table-result-container'><table class='table-result'><thead style='background-color: white'><tr></tr></thead><tbody></tbody></table></div>"
      ]
     },
     "metadata": {
      "application/vnd.databricks.v1+output": {
       "addedWidgets": {},
       "aggData": [],
       "aggError": "",
       "aggOverflow": false,
       "aggSchema": [],
       "aggSeriesLimitReached": false,
       "aggType": "",
       "arguments": {},
       "columnCustomDisplayInfos": {},
       "data": [],
       "datasetInfos": [],
       "dbfsResultPath": null,
       "isJsonSchema": true,
       "metadata": {},
       "overflow": false,
       "plotOptions": {
        "customPlotOptions": {},
        "displayType": "table",
        "pivotAggregation": null,
        "pivotColumns": null,
        "xColumns": null,
        "yColumns": null
       },
       "removedWidgets": [],
       "schema": [],
       "type": "table"
      }
     },
     "output_type": "display_data"
    },
    {
     "output_type": "display_data",
     "data": {
      "text/html": [
       "<style scoped>\n",
       "  .table-result-container {\n",
       "    max-height: 300px;\n",
       "    overflow: auto;\n",
       "  }\n",
       "  table, th, td {\n",
       "    border: 1px solid black;\n",
       "    border-collapse: collapse;\n",
       "  }\n",
       "  th, td {\n",
       "    padding: 5px;\n",
       "  }\n",
       "  th {\n",
       "    text-align: left;\n",
       "  }\n",
       "</style><div class='table-result-container'><table class='table-result'><thead style='background-color: white'><tr><th>current_catalog()</th><th>current_schema()</th><th>variable_value</th></tr></thead><tbody><tr><td>dbacademy</td><td>labuser10602209_1756883952</td><td>labuser10602209_1756883952</td></tr></tbody></table></div>"
      ]
     },
     "metadata": {
      "application/vnd.databricks.v1+output": {
       "addedWidgets": {},
       "aggData": [],
       "aggError": "",
       "aggOverflow": false,
       "aggSchema": [],
       "aggSeriesLimitReached": false,
       "aggType": "",
       "arguments": {},
       "columnCustomDisplayInfos": {},
       "data": [
        [
         "dbacademy",
         "labuser10602209_1756883952",
         "labuser10602209_1756883952"
        ]
       ],
       "datasetInfos": [],
       "dbfsResultPath": null,
       "isJsonSchema": true,
       "metadata": {},
       "overflow": false,
       "plotOptions": {
        "customPlotOptions": {},
        "displayType": "table",
        "pivotAggregation": null,
        "pivotColumns": null,
        "xColumns": null,
        "yColumns": null
       },
       "removedWidgets": [],
       "schema": [
        {
         "metadata": "{}",
         "name": "current_catalog()",
         "type": "\"string\""
        },
        {
         "metadata": "{}",
         "name": "current_schema()",
         "type": "\"string\""
        },
        {
         "metadata": "{}",
         "name": "variable_value",
         "type": "\"string\""
        }
       ],
       "type": "table"
      }
     },
     "output_type": "display_data"
    }
   ],
   "source": [
    "-- Change the default catalog/schema\n",
    "USE CATALOG dbacademy;\n",
    "USE SCHEMA IDENTIFIER(DA.schema_name);\n",
    "\n",
    "\n",
    "-- View current catalog and schema\n",
    "SELECT \n",
    "  current_catalog(), \n",
    "  current_schema(), \n",
    "  DA.schema_name AS variable_value   -- Display DA.schema_name variable value"
   ]
  },
  {
   "cell_type": "markdown",
   "metadata": {
    "application/vnd.databricks.v1+cell": {
     "cellMetadata": {},
     "inputWidgets": {},
     "nuid": "c46dab6f-5130-4053-8d2b-5eef1d21f8d0",
     "showTitle": false,
     "tableResultSettingsMap": {},
     "title": ""
    }
   },
   "source": [
    "## B. Lab Scenario\n",
    "\n",
    "You are an analyst at DB Inc., and you’ve been assigned the task of working with customer data stored in several JSON files. The data is located in the volume **dbacademy_retail.v01.retail-pipeline.customers.stream_json**. Your goal is to clean, transform, and enrich the raw data and create two new objects:\n",
    "\n",
    "- **Silver table**: This table will contain curated, cleaned, and slightly transformed data. It serves as an intermediate stage between raw data and the gold-level table.\n",
    "\n",
    "- **Gold materialized view**: This materialized view will contain aggregated data that should be scheduled to be refreshed every day.\n",
    "\n",
    "Follow the steps detailed below."
   ]
  },
  {
   "cell_type": "markdown",
   "metadata": {
    "application/vnd.databricks.v1+cell": {
     "cellMetadata": {},
     "inputWidgets": {},
     "nuid": "259ec2a4-da65-4c5a-b528-f74ee503815e",
     "showTitle": false,
     "tableResultSettingsMap": {},
     "title": ""
    }
   },
   "source": [
    "### B1. Ingestion and Exploration"
   ]
  },
  {
   "cell_type": "markdown",
   "metadata": {
    "application/vnd.databricks.v1+cell": {
     "cellMetadata": {},
     "inputWidgets": {},
     "nuid": "20b0a3d5-6988-475b-bb2c-788c64f09e05",
     "showTitle": false,
     "tableResultSettingsMap": {},
     "title": ""
    }
   },
   "source": [
    "1. Run the following cell to create a table named **customers_lab_bronze** in your **dbacademy.labuser** schema. The data will be sourced from a series of JSON files located in the provided Marketplace shared data volume: `/Volumes/dbacademy_retail/v01/retail-pipeline/customers/stream_json/`\n"
   ]
  },
  {
   "cell_type": "code",
   "execution_count": 0,
   "metadata": {
    "application/vnd.databricks.v1+cell": {
     "cellMetadata": {
      "byteLimit": 2048000,
      "rowLimit": 10000
     },
     "inputWidgets": {},
     "nuid": "7ac50008-6313-4755-a2ab-de9703adee77",
     "showTitle": false,
     "tableResultSettingsMap": {},
     "title": ""
    }
   },
   "outputs": [
    {
     "output_type": "display_data",
     "data": {
      "text/html": [
       "<style scoped>\n",
       "  .table-result-container {\n",
       "    max-height: 300px;\n",
       "    overflow: auto;\n",
       "  }\n",
       "  table, th, td {\n",
       "    border: 1px solid black;\n",
       "    border-collapse: collapse;\n",
       "  }\n",
       "  th, td {\n",
       "    padding: 5px;\n",
       "  }\n",
       "  th {\n",
       "    text-align: left;\n",
       "  }\n",
       "</style><div class='table-result-container'><table class='table-result'><thead style='background-color: white'><tr></tr></thead><tbody></tbody></table></div>"
      ]
     },
     "metadata": {
      "application/vnd.databricks.v1+output": {
       "addedWidgets": {},
       "aggData": [],
       "aggError": "",
       "aggOverflow": false,
       "aggSchema": [],
       "aggSeriesLimitReached": false,
       "aggType": "",
       "arguments": {},
       "columnCustomDisplayInfos": {},
       "data": [],
       "datasetInfos": [],
       "dbfsResultPath": null,
       "isJsonSchema": true,
       "metadata": {},
       "overflow": false,
       "plotOptions": {
        "customPlotOptions": {},
        "displayType": "table",
        "pivotAggregation": null,
        "pivotColumns": null,
        "xColumns": null,
        "yColumns": null
       },
       "removedWidgets": [],
       "schema": [],
       "type": "table"
      }
     },
     "output_type": "display_data"
    },
    {
     "output_type": "display_data",
     "data": {
      "text/html": [
       "<style scoped>\n",
       "  .table-result-container {\n",
       "    max-height: 300px;\n",
       "    overflow: auto;\n",
       "  }\n",
       "  table, th, td {\n",
       "    border: 1px solid black;\n",
       "    border-collapse: collapse;\n",
       "  }\n",
       "  th, td {\n",
       "    padding: 5px;\n",
       "  }\n",
       "  th {\n",
       "    text-align: left;\n",
       "  }\n",
       "</style><div class='table-result-container'><table class='table-result'><thead style='background-color: white'><tr></tr></thead><tbody></tbody></table></div>"
      ]
     },
     "metadata": {
      "application/vnd.databricks.v1+output": {
       "addedWidgets": {},
       "aggData": [],
       "aggError": "",
       "aggOverflow": false,
       "aggSchema": [],
       "aggSeriesLimitReached": false,
       "aggType": "",
       "arguments": {},
       "columnCustomDisplayInfos": {},
       "data": [],
       "datasetInfos": [],
       "dbfsResultPath": null,
       "isJsonSchema": true,
       "metadata": {},
       "overflow": false,
       "plotOptions": {
        "customPlotOptions": {},
        "displayType": "table",
        "pivotAggregation": null,
        "pivotColumns": null,
        "xColumns": null,
        "yColumns": null
       },
       "removedWidgets": [],
       "schema": [],
       "type": "table"
      }
     },
     "output_type": "display_data"
    },
    {
     "output_type": "display_data",
     "data": {
      "text/html": [
       "<style scoped>\n",
       "  .table-result-container {\n",
       "    max-height: 300px;\n",
       "    overflow: auto;\n",
       "  }\n",
       "  table, th, td {\n",
       "    border: 1px solid black;\n",
       "    border-collapse: collapse;\n",
       "  }\n",
       "  th, td {\n",
       "    padding: 5px;\n",
       "  }\n",
       "  th {\n",
       "    text-align: left;\n",
       "  }\n",
       "</style><div class='table-result-container'><table class='table-result'><thead style='background-color: white'><tr><th>num_affected_rows</th><th>num_inserted_rows</th><th>num_skipped_corrupt_files</th></tr></thead><tbody><tr><td>1467</td><td>1467</td><td>0</td></tr></tbody></table></div>"
      ]
     },
     "metadata": {
      "application/vnd.databricks.v1+output": {
       "addedWidgets": {},
       "aggData": [],
       "aggError": "",
       "aggOverflow": false,
       "aggSchema": [],
       "aggSeriesLimitReached": false,
       "aggType": "",
       "arguments": {},
       "columnCustomDisplayInfos": {},
       "data": [
        [
         1467,
         1467,
         0
        ]
       ],
       "datasetInfos": [],
       "dbfsResultPath": null,
       "isJsonSchema": true,
       "metadata": {},
       "overflow": false,
       "plotOptions": {
        "customPlotOptions": {},
        "displayType": "table",
        "pivotAggregation": null,
        "pivotColumns": null,
        "xColumns": null,
        "yColumns": null
       },
       "removedWidgets": [],
       "schema": [
        {
         "metadata": "{}",
         "name": "num_affected_rows",
         "type": "\"long\""
        },
        {
         "metadata": "{}",
         "name": "num_inserted_rows",
         "type": "\"long\""
        },
        {
         "metadata": "{}",
         "name": "num_skipped_corrupt_files",
         "type": "\"integer\""
        }
       ],
       "type": "table"
      }
     },
     "output_type": "display_data"
    }
   ],
   "source": [
    "-- Drop the table if it already exists to start from the beginning\n",
    "DROP TABLE IF EXISTS customers_lab_bronze;\n",
    "\n",
    "-- Create an empty table\n",
    "CREATE TABLE customers_lab_bronze;\n",
    "\n",
    "-- Copy JSON files from a volume into the table, merge the schema\n",
    "COPY INTO customers_lab_bronze\n",
    "FROM '/Volumes/dbacademy_retail/v01/retail-pipeline/customers/stream_json/'\n",
    "FILEFORMAT = JSON\n",
    "COPY_OPTIONS ('mergeSchema' = 'true');"
   ]
  },
  {
   "cell_type": "markdown",
   "metadata": {
    "application/vnd.databricks.v1+cell": {
     "cellMetadata": {},
     "inputWidgets": {},
     "nuid": "158438e2-865f-42be-a44c-0797357ad816",
     "showTitle": false,
     "tableResultSettingsMap": {},
     "title": ""
    }
   },
   "source": [
    "2. Run the cell below to query the **customers_lab_bronze** table and preview 10 rows. Notice the following:\n",
    "\n",
    "   - The **email** column contains the user's email domain.\n",
    "\n",
    "   - The **state** column contains a U.S. state abbreviation.\n",
    "   \n",
    "   - The **timestamp** column contains a Unix timestamp value."
   ]
  },
  {
   "cell_type": "code",
   "execution_count": 0,
   "metadata": {
    "application/vnd.databricks.v1+cell": {
     "cellMetadata": {
      "byteLimit": 2048000,
      "rowLimit": 10000
     },
     "inputWidgets": {},
     "nuid": "e06af909-5639-41c8-9fe2-9c7ec24452ab",
     "showTitle": false,
     "tableResultSettingsMap": {},
     "title": ""
    }
   },
   "outputs": [
    {
     "output_type": "display_data",
     "data": {
      "text/html": [
       "<style scoped>\n",
       "  .table-result-container {\n",
       "    max-height: 300px;\n",
       "    overflow: auto;\n",
       "  }\n",
       "  table, th, td {\n",
       "    border: 1px solid black;\n",
       "    border-collapse: collapse;\n",
       "  }\n",
       "  th, td {\n",
       "    padding: 5px;\n",
       "  }\n",
       "  th {\n",
       "    text-align: left;\n",
       "  }\n",
       "</style><div class='table-result-container'><table class='table-result'><thead style='background-color: white'><tr><th>address</th><th>city</th><th>customer_id</th><th>email</th><th>name</th><th>operation</th><th>state</th><th>timestamp</th><th>zip_code</th></tr></thead><tbody><tr><td>568 David Brook Apt. 524</td><td>Norwalk</td><td>23056</td><td>nelsonjoy@example.com</td><td>Brent Chavez</td><td>NEW</td><td>CA</td><td>1632417981</td><td>45049</td></tr><tr><td>741 Wendy Plains Apt. 143</td><td>San Francisco</td><td>23057</td><td>perkinsdeborah@example.net</td><td>James Cruz</td><td>NEW</td><td>CA</td><td>1632421305</td><td>42872</td></tr><tr><td>732 Trujillo Rue</td><td>Santa Monica</td><td>23058</td><td>jmccullough@example.net</td><td>Jennifer Christensen</td><td>NEW</td><td>CA</td><td>1632356384</td><td>89020</td></tr><tr><td>94580 Wolf Path Apt. 323</td><td>Albany</td><td>23053</td><td>alison80@example.com</td><td>Robert Craig</td><td>UPDATE</td><td>GA</td><td>1632409038</td><td>49094</td></tr><tr><td>954 Oconnell Union Apt. 988</td><td>New York</td><td>23060</td><td>ibuck@example.net</td><td>Shannon Cochran</td><td>NEW</td><td>NY</td><td>1632371835</td><td>35054</td></tr><tr><td>07449 Michael Manor</td><td>Pawtucket</td><td>23061</td><td>anthony99@example.com</td><td>Michael Norris</td><td>NEW</td><td>RI</td><td>1632409638</td><td>93764</td></tr><tr><td>73556 Rogers Glens</td><td>St. Charles</td><td>23062</td><td>vcoleman@example.net</td><td>Rhonda Thompson</td><td>NEW</td><td>MO</td><td>1632389458</td><td>62504</td></tr><tr><td>672 Erica Lakes</td><td>Perry</td><td>23063</td><td>sarahgallagher@example.net</td><td>Gene Yang DDS</td><td>NEW</td><td>MI</td><td>1632413696</td><td>60175</td></tr><tr><td>99513 Shari Views Apt. 667</td><td>Roswell</td><td>23064</td><td>kgonzalez@example.com</td><td>Valerie Clark</td><td>NEW</td><td>GA</td><td>1632356121</td><td>15232</td></tr><tr><td>61040 Hernandez Lane</td><td>Gaithersburg</td><td>23065</td><td>dylantaylor@example.net</td><td>Tonya Cameron</td><td>NEW</td><td>MD</td><td>1632400610</td><td>58640</td></tr></tbody></table></div>"
      ]
     },
     "metadata": {
      "application/vnd.databricks.v1+output": {
       "addedWidgets": {},
       "aggData": [],
       "aggError": "",
       "aggOverflow": false,
       "aggSchema": [],
       "aggSeriesLimitReached": false,
       "aggType": "",
       "arguments": {},
       "columnCustomDisplayInfos": {},
       "data": [
        [
         "568 David Brook Apt. 524",
         "Norwalk",
         23056,
         "nelsonjoy@example.com",
         "Brent Chavez",
         "NEW",
         "CA",
         1632417981,
         "45049"
        ],
        [
         "741 Wendy Plains Apt. 143",
         "San Francisco",
         23057,
         "perkinsdeborah@example.net",
         "James Cruz",
         "NEW",
         "CA",
         1632421305,
         "42872"
        ],
        [
         "732 Trujillo Rue",
         "Santa Monica",
         23058,
         "jmccullough@example.net",
         "Jennifer Christensen",
         "NEW",
         "CA",
         1632356384,
         "89020"
        ],
        [
         "94580 Wolf Path Apt. 323",
         "Albany",
         23053,
         "alison80@example.com",
         "Robert Craig",
         "UPDATE",
         "GA",
         1632409038,
         "49094"
        ],
        [
         "954 Oconnell Union Apt. 988",
         "New York",
         23060,
         "ibuck@example.net",
         "Shannon Cochran",
         "NEW",
         "NY",
         1632371835,
         "35054"
        ],
        [
         "07449 Michael Manor",
         "Pawtucket",
         23061,
         "anthony99@example.com",
         "Michael Norris",
         "NEW",
         "RI",
         1632409638,
         "93764"
        ],
        [
         "73556 Rogers Glens",
         "St. Charles",
         23062,
         "vcoleman@example.net",
         "Rhonda Thompson",
         "NEW",
         "MO",
         1632389458,
         "62504"
        ],
        [
         "672 Erica Lakes",
         "Perry",
         23063,
         "sarahgallagher@example.net",
         "Gene Yang DDS",
         "NEW",
         "MI",
         1632413696,
         "60175"
        ],
        [
         "99513 Shari Views Apt. 667",
         "Roswell",
         23064,
         "kgonzalez@example.com",
         "Valerie Clark",
         "NEW",
         "GA",
         1632356121,
         "15232"
        ],
        [
         "61040 Hernandez Lane",
         "Gaithersburg",
         23065,
         "dylantaylor@example.net",
         "Tonya Cameron",
         "NEW",
         "MD",
         1632400610,
         "58640"
        ]
       ],
       "datasetInfos": [],
       "dbfsResultPath": null,
       "isJsonSchema": true,
       "metadata": {},
       "overflow": false,
       "plotOptions": {
        "customPlotOptions": {},
        "displayType": "table",
        "pivotAggregation": null,
        "pivotColumns": null,
        "xColumns": null,
        "yColumns": null
       },
       "removedWidgets": [],
       "schema": [
        {
         "metadata": "{}",
         "name": "address",
         "type": "\"string\""
        },
        {
         "metadata": "{}",
         "name": "city",
         "type": "\"string\""
        },
        {
         "metadata": "{}",
         "name": "customer_id",
         "type": "\"long\""
        },
        {
         "metadata": "{}",
         "name": "email",
         "type": "\"string\""
        },
        {
         "metadata": "{}",
         "name": "name",
         "type": "\"string\""
        },
        {
         "metadata": "{}",
         "name": "operation",
         "type": "\"string\""
        },
        {
         "metadata": "{}",
         "name": "state",
         "type": "\"string\""
        },
        {
         "metadata": "{}",
         "name": "timestamp",
         "type": "\"long\""
        },
        {
         "metadata": "{}",
         "name": "zip_code",
         "type": "\"string\""
        }
       ],
       "type": "table"
      }
     },
     "output_type": "display_data"
    }
   ],
   "source": [
    "SELECT *\n",
    "FROM customers_lab_bronze\n",
    "LIMIT 10;"
   ]
  },
  {
   "cell_type": "markdown",
   "metadata": {
    "application/vnd.databricks.v1+cell": {
     "cellMetadata": {},
     "inputWidgets": {},
     "nuid": "e9d5e1f0-e407-42ac-9ae9-8cb0fe2f34b4",
     "showTitle": false,
     "tableResultSettingsMap": {},
     "title": ""
    }
   },
   "source": [
    "3. Write a query below to:\n",
    "\n",
    "   - View the distinct values in the **state** column of the **customers_lab_bronze** table and name the column **distinct_state**.\n",
    "   \n",
    "   - Order the result by the new column **distinct_state** in ascending order.\n",
    "\n",
    "   Run the query and view the results. Confirm that the query returns 48 rows and that the first value is `null`."
   ]
  },
  {
   "cell_type": "code",
   "execution_count": 0,
   "metadata": {
    "application/vnd.databricks.v1+cell": {
     "cellMetadata": {
      "byteLimit": 2048000,
      "rowLimit": 10000
     },
     "inputWidgets": {},
     "nuid": "5dd9dc02-6dc6-4356-b979-6c135bc520e3",
     "showTitle": false,
     "tableResultSettingsMap": {},
     "title": ""
    }
   },
   "outputs": [
    {
     "output_type": "display_data",
     "data": {
      "text/html": [
       "<style scoped>\n",
       "  .table-result-container {\n",
       "    max-height: 300px;\n",
       "    overflow: auto;\n",
       "  }\n",
       "  table, th, td {\n",
       "    border: 1px solid black;\n",
       "    border-collapse: collapse;\n",
       "  }\n",
       "  th, td {\n",
       "    padding: 5px;\n",
       "  }\n",
       "  th {\n",
       "    text-align: left;\n",
       "  }\n",
       "</style><div class='table-result-container'><table class='table-result'><thead style='background-color: white'><tr><th>distinct_state</th></tr></thead><tbody><tr><td>null</td></tr><tr><td>AL</td></tr><tr><td>AR</td></tr><tr><td>AZ</td></tr><tr><td>CA</td></tr><tr><td>CO</td></tr><tr><td>CT</td></tr><tr><td>DC</td></tr><tr><td>FL</td></tr><tr><td>GA</td></tr><tr><td>IA</td></tr><tr><td>ID</td></tr><tr><td>IL</td></tr><tr><td>IN</td></tr><tr><td>KS</td></tr><tr><td>KY</td></tr><tr><td>LA</td></tr><tr><td>MA</td></tr><tr><td>MD</td></tr><tr><td>ME</td></tr><tr><td>MI</td></tr><tr><td>MN</td></tr><tr><td>MO</td></tr><tr><td>MS</td></tr><tr><td>MT</td></tr><tr><td>NC</td></tr><tr><td>ND</td></tr><tr><td>NE</td></tr><tr><td>NH</td></tr><tr><td>NJ</td></tr><tr><td>NM</td></tr><tr><td>NV</td></tr><tr><td>NY</td></tr><tr><td>OH</td></tr><tr><td>OK</td></tr><tr><td>OR</td></tr><tr><td>PA</td></tr><tr><td>RI</td></tr><tr><td>SC</td></tr><tr><td>SD</td></tr><tr><td>TN</td></tr><tr><td>TX</td></tr><tr><td>UT</td></tr><tr><td>VA</td></tr><tr><td>WA</td></tr><tr><td>WI</td></tr><tr><td>WV</td></tr><tr><td>WY</td></tr></tbody></table></div>"
      ]
     },
     "metadata": {
      "application/vnd.databricks.v1+output": {
       "addedWidgets": {},
       "aggData": [],
       "aggError": "",
       "aggOverflow": false,
       "aggSchema": [],
       "aggSeriesLimitReached": false,
       "aggType": "",
       "arguments": {},
       "columnCustomDisplayInfos": {},
       "data": [
        [
         null
        ],
        [
         "AL"
        ],
        [
         "AR"
        ],
        [
         "AZ"
        ],
        [
         "CA"
        ],
        [
         "CO"
        ],
        [
         "CT"
        ],
        [
         "DC"
        ],
        [
         "FL"
        ],
        [
         "GA"
        ],
        [
         "IA"
        ],
        [
         "ID"
        ],
        [
         "IL"
        ],
        [
         "IN"
        ],
        [
         "KS"
        ],
        [
         "KY"
        ],
        [
         "LA"
        ],
        [
         "MA"
        ],
        [
         "MD"
        ],
        [
         "ME"
        ],
        [
         "MI"
        ],
        [
         "MN"
        ],
        [
         "MO"
        ],
        [
         "MS"
        ],
        [
         "MT"
        ],
        [
         "NC"
        ],
        [
         "ND"
        ],
        [
         "NE"
        ],
        [
         "NH"
        ],
        [
         "NJ"
        ],
        [
         "NM"
        ],
        [
         "NV"
        ],
        [
         "NY"
        ],
        [
         "OH"
        ],
        [
         "OK"
        ],
        [
         "OR"
        ],
        [
         "PA"
        ],
        [
         "RI"
        ],
        [
         "SC"
        ],
        [
         "SD"
        ],
        [
         "TN"
        ],
        [
         "TX"
        ],
        [
         "UT"
        ],
        [
         "VA"
        ],
        [
         "WA"
        ],
        [
         "WI"
        ],
        [
         "WV"
        ],
        [
         "WY"
        ]
       ],
       "datasetInfos": [],
       "dbfsResultPath": null,
       "isJsonSchema": true,
       "metadata": {},
       "overflow": false,
       "plotOptions": {
        "customPlotOptions": {},
        "displayType": "table",
        "pivotAggregation": null,
        "pivotColumns": null,
        "xColumns": null,
        "yColumns": null
       },
       "removedWidgets": [],
       "schema": [
        {
         "metadata": "{}",
         "name": "distinct_state",
         "type": "\"string\""
        }
       ],
       "type": "table"
      }
     },
     "output_type": "display_data"
    }
   ],
   "source": [
    "SELECT DISTINCT state AS distinct_state\n",
    "FROM customers_lab_bronze\n",
    "ORDER BY distinct_state  ASC;\n",
    "-- Create a temporary view"
   ]
  },
  {
   "cell_type": "markdown",
   "metadata": {
    "application/vnd.databricks.v1+cell": {
     "cellMetadata": {},
     "inputWidgets": {},
     "nuid": "d9964e38-601b-4ad2-ae19-8e01988324ab",
     "showTitle": false,
     "tableResultSettingsMap": {},
     "title": ""
    }
   },
   "source": [
    "4. Run the query below to query the **state_lookup** table and preview 10 rows. Notice that the table contains abbreviated state names, which can be used to obtain the full state names."
   ]
  },
  {
   "cell_type": "code",
   "execution_count": 0,
   "metadata": {
    "application/vnd.databricks.v1+cell": {
     "cellMetadata": {
      "byteLimit": 2048000,
      "rowLimit": 10000
     },
     "inputWidgets": {},
     "nuid": "e0692098-7f10-496b-841f-8874b09806ec",
     "showTitle": false,
     "tableResultSettingsMap": {},
     "title": ""
    }
   },
   "outputs": [
    {
     "output_type": "display_data",
     "data": {
      "text/html": [
       "<style scoped>\n",
       "  .table-result-container {\n",
       "    max-height: 300px;\n",
       "    overflow: auto;\n",
       "  }\n",
       "  table, th, td {\n",
       "    border: 1px solid black;\n",
       "    border-collapse: collapse;\n",
       "  }\n",
       "  th, td {\n",
       "    padding: 5px;\n",
       "  }\n",
       "  th {\n",
       "    text-align: left;\n",
       "  }\n",
       "</style><div class='table-result-container'><table class='table-result'><thead style='background-color: white'><tr><th>state_abbreviation</th><th>state_name</th></tr></thead><tbody><tr><td>AL</td><td>Alabama</td></tr><tr><td>AK</td><td>Alaska</td></tr><tr><td>AZ</td><td>Arizona</td></tr><tr><td>AR</td><td>Arkansas</td></tr><tr><td>CA</td><td>California</td></tr><tr><td>CO</td><td>Colorado</td></tr><tr><td>CT</td><td>Connecticut</td></tr><tr><td>DE</td><td>Delaware</td></tr><tr><td>FL</td><td>Florida</td></tr><tr><td>GA</td><td>Georgia</td></tr></tbody></table></div>"
      ]
     },
     "metadata": {
      "application/vnd.databricks.v1+output": {
       "addedWidgets": {},
       "aggData": [],
       "aggError": "",
       "aggOverflow": false,
       "aggSchema": [],
       "aggSeriesLimitReached": false,
       "aggType": "",
       "arguments": {},
       "columnCustomDisplayInfos": {},
       "data": [
        [
         "AL",
         "Alabama"
        ],
        [
         "AK",
         "Alaska"
        ],
        [
         "AZ",
         "Arizona"
        ],
        [
         "AR",
         "Arkansas"
        ],
        [
         "CA",
         "California"
        ],
        [
         "CO",
         "Colorado"
        ],
        [
         "CT",
         "Connecticut"
        ],
        [
         "DE",
         "Delaware"
        ],
        [
         "FL",
         "Florida"
        ],
        [
         "GA",
         "Georgia"
        ]
       ],
       "datasetInfos": [],
       "dbfsResultPath": null,
       "isJsonSchema": true,
       "metadata": {},
       "overflow": false,
       "plotOptions": {
        "customPlotOptions": {},
        "displayType": "table",
        "pivotAggregation": null,
        "pivotColumns": null,
        "xColumns": null,
        "yColumns": null
       },
       "removedWidgets": [],
       "schema": [
        {
         "metadata": "{}",
         "name": "state_abbreviation",
         "type": "\"string\""
        },
        {
         "metadata": "{}",
         "name": "state_name",
         "type": "\"string\""
        }
       ],
       "type": "table"
      }
     },
     "output_type": "display_data"
    }
   ],
   "source": [
    "SELECT *\n",
    "FROM state_lookup\n",
    "LIMIT 10;"
   ]
  },
  {
   "cell_type": "markdown",
   "metadata": {
    "application/vnd.databricks.v1+cell": {
     "cellMetadata": {},
     "inputWidgets": {},
     "nuid": "8d2e1333-9fa1-423c-a540-09be621c4551",
     "showTitle": false,
     "tableResultSettingsMap": {},
     "title": ""
    }
   },
   "source": [
    "### B2. Data Manipulation and Transformation"
   ]
  },
  {
   "cell_type": "markdown",
   "metadata": {
    "application/vnd.databricks.v1+cell": {
     "cellMetadata": {},
     "inputWidgets": {},
     "nuid": "cf97556c-cd69-4c08-86b1-cf089b90f981",
     "showTitle": false,
     "tableResultSettingsMap": {},
     "title": ""
    }
   },
   "source": [
    "1. Create the **customer_lab_silver** table by completing the following:\n",
    "\n",
    "   a. Select the following columns from the **customers_lab_bronze** table:\n",
    "      - **customer_id**\n",
    "      - **name**\n",
    "      - **address**\n",
    "      - **city**\n",
    "      - **email**\n",
    "      - **operation**\n",
    "      - **zip_code**\n",
    "      - **state**\n",
    "   \n",
    "   b. Create a column named **sign_up_date** by converting the Unix timestamp (**timestamp** column) to a human-readable date format using the following:\n",
    "      - [from_unixtime function](https://docs.databricks.com/aws/en/sql/language-manual/functions/from_unixtime)\n",
    "\n",
    "      - [date_format function](https://docs.databricks.com/aws/en/sql/language-manual/functions/date_format)\n",
    "\n",
    "      **HINT:**\n",
    "      ```sql\n",
    "      date_format(from_unixtime(timestamp), 'yyyy-MM-dd HH:mm:ss') AS sign_up_date\n",
    "      ```\n",
    "\n",
    "   c. Create a column named **email_domain** that extracts the domain from the email address using the `substring_index` function.\n",
    "      - [substring_index function](https://docs.databricks.com/aws/en/sql/language-manual/functions/substring_index#:~:text=Returns%20the%20substring%20of%20expr,occurrence%20of%20the%20delimiter%20delim%20.)\n",
    "\n",
    "      - Example results: **peter@example.org** → **example.org**\n",
    "\n",
    "      **HINT:**\n",
    "      ```SQL\n",
    "      substring_index(cust.email, '@', -1) AS email_domain,\n",
    "      ```\n",
    "\n",
    "   d. Perform a LEFT JOIN between the **customers_lab_bronze** and **state_lookup** tables to retain all records from the **customers_lab_bronze** table, creating the **state_name** column from the **state_lookup** table to obtain the full state name where available.\n",
    "      - **HINT:** Try using the `generate with AI` in another cell to assist you with the join syntax if you need it.\n",
    "\n",
    "**NOTE:** The solution table has already been created for you in your **labuser** schema if you would like to view it. The table is named **customer_lab_silver_solution**.\n"
   ]
  },
  {
   "cell_type": "code",
   "execution_count": 0,
   "metadata": {
    "application/vnd.databricks.v1+cell": {
     "cellMetadata": {
      "byteLimit": 2048000,
      "rowLimit": 10000
     },
     "inputWidgets": {},
     "nuid": "ac591ce1-abd5-4120-867d-38ed734fb161",
     "showTitle": false,
     "tableResultSettingsMap": {},
     "title": ""
    }
   },
   "outputs": [
    {
     "output_type": "display_data",
     "data": {
      "text/html": [
       "<style scoped>\n",
       "  .table-result-container {\n",
       "    max-height: 300px;\n",
       "    overflow: auto;\n",
       "  }\n",
       "  table, th, td {\n",
       "    border: 1px solid black;\n",
       "    border-collapse: collapse;\n",
       "  }\n",
       "  th, td {\n",
       "    padding: 5px;\n",
       "  }\n",
       "  th {\n",
       "    text-align: left;\n",
       "  }\n",
       "</style><div class='table-result-container'><table class='table-result'><thead style='background-color: white'><tr><th>num_affected_rows</th><th>num_inserted_rows</th></tr></thead><tbody></tbody></table></div>"
      ]
     },
     "metadata": {
      "application/vnd.databricks.v1+output": {
       "addedWidgets": {},
       "aggData": [],
       "aggError": "",
       "aggOverflow": false,
       "aggSchema": [],
       "aggSeriesLimitReached": false,
       "aggType": "",
       "arguments": {},
       "columnCustomDisplayInfos": {},
       "data": [],
       "datasetInfos": [],
       "dbfsResultPath": null,
       "isJsonSchema": true,
       "metadata": {},
       "overflow": false,
       "plotOptions": {
        "customPlotOptions": {},
        "displayType": "table",
        "pivotAggregation": null,
        "pivotColumns": null,
        "xColumns": null,
        "yColumns": null
       },
       "removedWidgets": [],
       "schema": [
        {
         "metadata": "{}",
         "name": "num_affected_rows",
         "type": "\"long\""
        },
        {
         "metadata": "{}",
         "name": "num_inserted_rows",
         "type": "\"long\""
        }
       ],
       "type": "table"
      }
     },
     "output_type": "display_data"
    }
   ],
   "source": [
    "CREATE OR REPLACE TABLE customer_lab_silver AS\n",
    "SELECT\n",
    "  customer_id,\n",
    "  name,\n",
    "  address,\n",
    "  city,\n",
    "  email,\n",
    "  operation,\n",
    "  zip_code,\n",
    "  state,\n",
    "  date_format(from_unixtime(timestamp), 'yyyy-MM-dd HH:mm:ss') AS sign_up_date,\n",
    "  substring_index(cust.email, '@', -1) AS email_domain,\n",
    "  state_name\n",
    "FROM customers_lab_bronze AS cust\n",
    "LEFT JOIN state_lookup As st ON cust.state = st.state_abbreviation"
   ]
  },
  {
   "cell_type": "markdown",
   "metadata": {
    "application/vnd.databricks.v1+cell": {
     "cellMetadata": {},
     "inputWidgets": {},
     "nuid": "4e54a2c6-3a1d-4d7e-a4b4-cd5c0897482b",
     "showTitle": false,
     "tableResultSettingsMap": {},
     "title": ""
    }
   },
   "source": [
    "2. Run the cell below to compare your table **customer_lab_silver** to the solution table **customer_lab_silver_solution**. If the tables are identical (column names, all data, etc) then query should return 0 rows. \n",
    "\n",
    "If the query returns an error, you will have to fix the **customer_lab_silver** table you created in the previous cell."
   ]
  },
  {
   "cell_type": "code",
   "execution_count": 0,
   "metadata": {
    "application/vnd.databricks.v1+cell": {
     "cellMetadata": {
      "byteLimit": 2048000,
      "rowLimit": 10000
     },
     "inputWidgets": {},
     "nuid": "295a8f80-9987-4aec-b26b-38f5dba104e4",
     "showTitle": false,
     "tableResultSettingsMap": {},
     "title": ""
    }
   },
   "outputs": [
    {
     "output_type": "display_data",
     "data": {
      "text/html": [
       "<style scoped>\n",
       "  .table-result-container {\n",
       "    max-height: 300px;\n",
       "    overflow: auto;\n",
       "  }\n",
       "  table, th, td {\n",
       "    border: 1px solid black;\n",
       "    border-collapse: collapse;\n",
       "  }\n",
       "  th, td {\n",
       "    padding: 5px;\n",
       "  }\n",
       "  th {\n",
       "    text-align: left;\n",
       "  }\n",
       "</style><div class='table-result-container'><table class='table-result'><thead style='background-color: white'><tr><th>customer_id</th><th>name</th><th>address</th><th>city</th><th>email</th><th>operation</th><th>zip_code</th><th>state</th><th>sign_up_date</th><th>email_domain</th><th>state_name</th></tr></thead><tbody></tbody></table></div>"
      ]
     },
     "metadata": {
      "application/vnd.databricks.v1+output": {
       "addedWidgets": {},
       "aggData": [],
       "aggError": "",
       "aggOverflow": false,
       "aggSchema": [],
       "aggSeriesLimitReached": false,
       "aggType": "",
       "arguments": {},
       "columnCustomDisplayInfos": {},
       "data": [],
       "datasetInfos": [],
       "dbfsResultPath": null,
       "isJsonSchema": true,
       "metadata": {},
       "overflow": false,
       "plotOptions": {
        "customPlotOptions": {},
        "displayType": "table",
        "pivotAggregation": null,
        "pivotColumns": null,
        "xColumns": null,
        "yColumns": null
       },
       "removedWidgets": [],
       "schema": [
        {
         "metadata": "{}",
         "name": "customer_id",
         "type": "\"long\""
        },
        {
         "metadata": "{}",
         "name": "name",
         "type": "\"string\""
        },
        {
         "metadata": "{}",
         "name": "address",
         "type": "\"string\""
        },
        {
         "metadata": "{}",
         "name": "city",
         "type": "\"string\""
        },
        {
         "metadata": "{}",
         "name": "email",
         "type": "\"string\""
        },
        {
         "metadata": "{}",
         "name": "operation",
         "type": "\"string\""
        },
        {
         "metadata": "{}",
         "name": "zip_code",
         "type": "\"string\""
        },
        {
         "metadata": "{}",
         "name": "state",
         "type": "\"string\""
        },
        {
         "metadata": "{}",
         "name": "sign_up_date",
         "type": "\"string\""
        },
        {
         "metadata": "{}",
         "name": "email_domain",
         "type": "\"string\""
        },
        {
         "metadata": "{}",
         "name": "state_name",
         "type": "\"string\""
        }
       ],
       "type": "table"
      }
     },
     "output_type": "display_data"
    }
   ],
   "source": [
    "SELECT *\n",
    "FROM customer_lab_silver_solution\n",
    "EXCEPT\n",
    "SELECT\n",
    "  customer_id,\n",
    "  name,\n",
    "  address,\n",
    "  city,\n",
    "  email,\n",
    "  operation,\n",
    "  zip_code,\n",
    "  state,\n",
    "  sign_up_date,\n",
    "  email_domain,\n",
    "  state_name\n",
    "FROM customer_lab_silver;"
   ]
  },
  {
   "cell_type": "markdown",
   "metadata": {
    "application/vnd.databricks.v1+cell": {
     "cellMetadata": {},
     "inputWidgets": {},
     "nuid": "26a13617-292f-42f3-922d-0be6f2223d4d",
     "showTitle": false,
     "tableResultSettingsMap": {},
     "title": ""
    }
   },
   "source": [
    "### B3. Create a Materialized View"
   ]
  },
  {
   "cell_type": "markdown",
   "metadata": {
    "application/vnd.databricks.v1+cell": {
     "cellMetadata": {},
     "inputWidgets": {},
     "nuid": "dacd4167-6371-463a-aac4-0c4f6d6897b3",
     "showTitle": false,
     "tableResultSettingsMap": {},
     "title": ""
    }
   },
   "source": [
    "1. Run the cell below to view 10 rows from your **customer_lab_silver** table."
   ]
  },
  {
   "cell_type": "code",
   "execution_count": 0,
   "metadata": {
    "application/vnd.databricks.v1+cell": {
     "cellMetadata": {
      "byteLimit": 2048000,
      "rowLimit": 10000
     },
     "inputWidgets": {},
     "nuid": "016f84cb-f24a-4fc9-a11a-3b54ac81766a",
     "showTitle": false,
     "tableResultSettingsMap": {},
     "title": ""
    }
   },
   "outputs": [
    {
     "output_type": "display_data",
     "data": {
      "text/html": [
       "<style scoped>\n",
       "  .table-result-container {\n",
       "    max-height: 300px;\n",
       "    overflow: auto;\n",
       "  }\n",
       "  table, th, td {\n",
       "    border: 1px solid black;\n",
       "    border-collapse: collapse;\n",
       "  }\n",
       "  th, td {\n",
       "    padding: 5px;\n",
       "  }\n",
       "  th {\n",
       "    text-align: left;\n",
       "  }\n",
       "</style><div class='table-result-container'><table class='table-result'><thead style='background-color: white'><tr><th>customer_id</th><th>name</th><th>address</th><th>city</th><th>email</th><th>operation</th><th>zip_code</th><th>state</th><th>sign_up_date</th><th>email_domain</th><th>state_name</th></tr></thead><tbody><tr><td>23056</td><td>Brent Chavez</td><td>568 David Brook Apt. 524</td><td>Norwalk</td><td>nelsonjoy@example.com</td><td>NEW</td><td>45049</td><td>CA</td><td>2021-09-23 17:26:21</td><td>example.com</td><td>California</td></tr><tr><td>23057</td><td>James Cruz</td><td>741 Wendy Plains Apt. 143</td><td>San Francisco</td><td>perkinsdeborah@example.net</td><td>NEW</td><td>42872</td><td>CA</td><td>2021-09-23 18:21:45</td><td>example.net</td><td>California</td></tr><tr><td>23058</td><td>Jennifer Christensen</td><td>732 Trujillo Rue</td><td>Santa Monica</td><td>jmccullough@example.net</td><td>NEW</td><td>89020</td><td>CA</td><td>2021-09-23 00:19:44</td><td>example.net</td><td>California</td></tr><tr><td>23053</td><td>Robert Craig</td><td>94580 Wolf Path Apt. 323</td><td>Albany</td><td>alison80@example.com</td><td>UPDATE</td><td>49094</td><td>GA</td><td>2021-09-23 14:57:18</td><td>example.com</td><td>Georgia</td></tr><tr><td>23060</td><td>Shannon Cochran</td><td>954 Oconnell Union Apt. 988</td><td>New York</td><td>ibuck@example.net</td><td>NEW</td><td>35054</td><td>NY</td><td>2021-09-23 04:37:15</td><td>example.net</td><td>New York</td></tr><tr><td>23061</td><td>Michael Norris</td><td>07449 Michael Manor</td><td>Pawtucket</td><td>anthony99@example.com</td><td>NEW</td><td>93764</td><td>RI</td><td>2021-09-23 15:07:18</td><td>example.com</td><td>Rhode Island</td></tr><tr><td>23062</td><td>Rhonda Thompson</td><td>73556 Rogers Glens</td><td>St. Charles</td><td>vcoleman@example.net</td><td>NEW</td><td>62504</td><td>MO</td><td>2021-09-23 09:30:58</td><td>example.net</td><td>Missouri</td></tr><tr><td>23063</td><td>Gene Yang DDS</td><td>672 Erica Lakes</td><td>Perry</td><td>sarahgallagher@example.net</td><td>NEW</td><td>60175</td><td>MI</td><td>2021-09-23 16:14:56</td><td>example.net</td><td>Michigan</td></tr><tr><td>23064</td><td>Valerie Clark</td><td>99513 Shari Views Apt. 667</td><td>Roswell</td><td>kgonzalez@example.com</td><td>NEW</td><td>15232</td><td>GA</td><td>2021-09-23 00:15:21</td><td>example.com</td><td>Georgia</td></tr><tr><td>23065</td><td>Tonya Cameron</td><td>61040 Hernandez Lane</td><td>Gaithersburg</td><td>dylantaylor@example.net</td><td>NEW</td><td>58640</td><td>MD</td><td>2021-09-23 12:36:50</td><td>example.net</td><td>Maryland</td></tr></tbody></table></div>"
      ]
     },
     "metadata": {
      "application/vnd.databricks.v1+output": {
       "addedWidgets": {},
       "aggData": [],
       "aggError": "",
       "aggOverflow": false,
       "aggSchema": [],
       "aggSeriesLimitReached": false,
       "aggType": "",
       "arguments": {},
       "columnCustomDisplayInfos": {},
       "data": [
        [
         23056,
         "Brent Chavez",
         "568 David Brook Apt. 524",
         "Norwalk",
         "nelsonjoy@example.com",
         "NEW",
         "45049",
         "CA",
         "2021-09-23 17:26:21",
         "example.com",
         "California"
        ],
        [
         23057,
         "James Cruz",
         "741 Wendy Plains Apt. 143",
         "San Francisco",
         "perkinsdeborah@example.net",
         "NEW",
         "42872",
         "CA",
         "2021-09-23 18:21:45",
         "example.net",
         "California"
        ],
        [
         23058,
         "Jennifer Christensen",
         "732 Trujillo Rue",
         "Santa Monica",
         "jmccullough@example.net",
         "NEW",
         "89020",
         "CA",
         "2021-09-23 00:19:44",
         "example.net",
         "California"
        ],
        [
         23053,
         "Robert Craig",
         "94580 Wolf Path Apt. 323",
         "Albany",
         "alison80@example.com",
         "UPDATE",
         "49094",
         "GA",
         "2021-09-23 14:57:18",
         "example.com",
         "Georgia"
        ],
        [
         23060,
         "Shannon Cochran",
         "954 Oconnell Union Apt. 988",
         "New York",
         "ibuck@example.net",
         "NEW",
         "35054",
         "NY",
         "2021-09-23 04:37:15",
         "example.net",
         "New York"
        ],
        [
         23061,
         "Michael Norris",
         "07449 Michael Manor",
         "Pawtucket",
         "anthony99@example.com",
         "NEW",
         "93764",
         "RI",
         "2021-09-23 15:07:18",
         "example.com",
         "Rhode Island"
        ],
        [
         23062,
         "Rhonda Thompson",
         "73556 Rogers Glens",
         "St. Charles",
         "vcoleman@example.net",
         "NEW",
         "62504",
         "MO",
         "2021-09-23 09:30:58",
         "example.net",
         "Missouri"
        ],
        [
         23063,
         "Gene Yang DDS",
         "672 Erica Lakes",
         "Perry",
         "sarahgallagher@example.net",
         "NEW",
         "60175",
         "MI",
         "2021-09-23 16:14:56",
         "example.net",
         "Michigan"
        ],
        [
         23064,
         "Valerie Clark",
         "99513 Shari Views Apt. 667",
         "Roswell",
         "kgonzalez@example.com",
         "NEW",
         "15232",
         "GA",
         "2021-09-23 00:15:21",
         "example.com",
         "Georgia"
        ],
        [
         23065,
         "Tonya Cameron",
         "61040 Hernandez Lane",
         "Gaithersburg",
         "dylantaylor@example.net",
         "NEW",
         "58640",
         "MD",
         "2021-09-23 12:36:50",
         "example.net",
         "Maryland"
        ]
       ],
       "datasetInfos": [],
       "dbfsResultPath": null,
       "isJsonSchema": true,
       "metadata": {},
       "overflow": false,
       "plotOptions": {
        "customPlotOptions": {},
        "displayType": "table",
        "pivotAggregation": null,
        "pivotColumns": null,
        "xColumns": null,
        "yColumns": null
       },
       "removedWidgets": [],
       "schema": [
        {
         "metadata": "{}",
         "name": "customer_id",
         "type": "\"long\""
        },
        {
         "metadata": "{}",
         "name": "name",
         "type": "\"string\""
        },
        {
         "metadata": "{}",
         "name": "address",
         "type": "\"string\""
        },
        {
         "metadata": "{}",
         "name": "city",
         "type": "\"string\""
        },
        {
         "metadata": "{}",
         "name": "email",
         "type": "\"string\""
        },
        {
         "metadata": "{}",
         "name": "operation",
         "type": "\"string\""
        },
        {
         "metadata": "{}",
         "name": "zip_code",
         "type": "\"string\""
        },
        {
         "metadata": "{}",
         "name": "state",
         "type": "\"string\""
        },
        {
         "metadata": "{}",
         "name": "sign_up_date",
         "type": "\"string\""
        },
        {
         "metadata": "{}",
         "name": "email_domain",
         "type": "\"string\""
        },
        {
         "metadata": "{}",
         "name": "state_name",
         "type": "\"string\""
        }
       ],
       "type": "table"
      }
     },
     "output_type": "display_data"
    }
   ],
   "source": [
    "SELECT *\n",
    "FROM customer_lab_silver\n",
    "LIMIT 10;"
   ]
  },
  {
   "cell_type": "markdown",
   "metadata": {
    "application/vnd.databricks.v1+cell": {
     "cellMetadata": {},
     "inputWidgets": {},
     "nuid": "d2bd2d17-aee1-49da-922d-d3ee19ee6072",
     "showTitle": false,
     "tableResultSettingsMap": {},
     "title": ""
    }
   },
   "source": [
    "2. Create a materialized view named **customers_per_state_gold** that:\n",
    "\n",
    "   - Counts the number of customers by **state_name** from the **customers_lab_silver** table in a column named **total_customers**.\n",
    "\n",
    "   - Ensures the materialized view refreshes every day.\n",
    "   \n",
    "   - Orders the results by **total_customers** in descending order.\n",
    "\n",
    "   [CREATE MATERIALIZED VIEW](https://docs.databricks.com/aws/en/sql/language-manual/sql-ref-syntax-ddl-create-materialized-view)\n",
    "\n",
    "   **HINT:** If you couldn't create the **customers_lab_silver** table correctly, you can use the premade solution table **customer_lab_silver_solution**."
   ]
  },
  {
   "cell_type": "code",
   "execution_count": 0,
   "metadata": {
    "application/vnd.databricks.v1+cell": {
     "cellMetadata": {
      "byteLimit": 2048000,
      "rowLimit": 10000
     },
     "inputWidgets": {},
     "nuid": "dec9ab2c-98c3-44e3-9247-4e5d6406d477",
     "showTitle": false,
     "tableResultSettingsMap": {},
     "title": ""
    }
   },
   "outputs": [
    {
     "output_type": "display_data",
     "data": {
      "text/html": [
       "<style scoped>\n",
       "  .table-result-container {\n",
       "    max-height: 300px;\n",
       "    overflow: auto;\n",
       "  }\n",
       "  table, th, td {\n",
       "    border: 1px solid black;\n",
       "    border-collapse: collapse;\n",
       "  }\n",
       "  th, td {\n",
       "    padding: 5px;\n",
       "  }\n",
       "  th {\n",
       "    text-align: left;\n",
       "  }\n",
       "</style><div class='table-result-container'><table class='table-result'><thead style='background-color: white'><tr><th>result</th></tr></thead><tbody><tr><td>The operation was successfully executed.</td></tr></tbody></table></div>"
      ]
     },
     "metadata": {
      "application/vnd.databricks.v1+output": {
       "addedWidgets": {},
       "aggData": [],
       "aggError": "",
       "aggOverflow": false,
       "aggSchema": [],
       "aggSeriesLimitReached": false,
       "aggType": "",
       "arguments": {},
       "columnCustomDisplayInfos": {},
       "data": [
        [
         "The operation was successfully executed."
        ]
       ],
       "datasetInfos": [],
       "dbfsResultPath": null,
       "isJsonSchema": true,
       "metadata": {},
       "overflow": false,
       "plotOptions": {
        "customPlotOptions": {},
        "displayType": "table",
        "pivotAggregation": null,
        "pivotColumns": null,
        "xColumns": null,
        "yColumns": null
       },
       "removedWidgets": [],
       "schema": [
        {
         "metadata": "{}",
         "name": "result",
         "type": "\"string\""
        }
       ],
       "type": "table"
      }
     },
     "output_type": "display_data"
    }
   ],
   "source": [
    "CREATE OR REFRESH MATERIALIZED VIEW customers_per_state_gold \n",
    "SCHEDULE EVERY 1 DAY\n",
    "AS\n",
    "SELECT\n",
    "  state_name,\n",
    "  COUNT(*) AS total_customers\n",
    "FROM customer_lab_silver\n",
    "GROUP BY state_name\n",
    "ORDER BY total_customers DESC;"
   ]
  },
  {
   "cell_type": "markdown",
   "metadata": {
    "application/vnd.databricks.v1+cell": {
     "cellMetadata": {},
     "inputWidgets": {},
     "nuid": "f2bdbbd8-1029-4b2b-ab4e-f913adda7cab",
     "showTitle": false,
     "tableResultSettingsMap": {},
     "title": ""
    }
   },
   "source": [
    "3. Run the cell below to view your materialized view. Confirm your first 10 rows of your materialized view match the following values:\n",
    "\n",
    "    | state_name  | total_customers |\n",
    "    |-------------|-----------------|\n",
    "    | California  | 259             |\n",
    "    | Texas       | 141             |\n",
    "    | New York    | 98              |\n",
    "    | Florida     | 69              |\n",
    "    | Illinois    | 55              |\n",
    "    | Michigan    | 52              |\n",
    "    | Ohio        | 50              |\n",
    "    | null        | 49              |\n",
    "    | Washington  | 38              |\n",
    "    | Arizona     | 36              |\n"
   ]
  },
  {
   "cell_type": "code",
   "execution_count": 0,
   "metadata": {
    "application/vnd.databricks.v1+cell": {
     "cellMetadata": {
      "byteLimit": 2048000,
      "rowLimit": 10000
     },
     "inputWidgets": {},
     "nuid": "a5f1031a-3c21-4399-a2bb-adb5aadb6376",
     "showTitle": false,
     "tableResultSettingsMap": {
      "0": {
       "dataGridStateBlob": "{\"version\":1,\"tableState\":{\"columnPinning\":{\"left\":[\"#row_number#\"],\"right\":[]},\"columnSizing\":{},\"columnVisibility\":{}},\"settings\":{\"columns\":{}},\"syncTimestamp\":1756993838912}",
       "filterBlob": null,
       "queryPlanFiltersBlob": null,
       "tableResultIndex": 0
      }
     },
     "title": ""
    }
   },
   "outputs": [
    {
     "output_type": "display_data",
     "data": {
      "text/html": [
       "<style scoped>\n",
       "  .table-result-container {\n",
       "    max-height: 300px;\n",
       "    overflow: auto;\n",
       "  }\n",
       "  table, th, td {\n",
       "    border: 1px solid black;\n",
       "    border-collapse: collapse;\n",
       "  }\n",
       "  th, td {\n",
       "    padding: 5px;\n",
       "  }\n",
       "  th {\n",
       "    text-align: left;\n",
       "  }\n",
       "</style><div class='table-result-container'><table class='table-result'><thead style='background-color: white'><tr><th>state_name</th><th>total_customers</th></tr></thead><tbody><tr><td>Maine</td><td>1</td></tr><tr><td>New Jersey</td><td>20</td></tr><tr><td>null</td><td>49</td></tr><tr><td>Arkansas</td><td>18</td></tr><tr><td>Oregon</td><td>26</td></tr><tr><td>Arizona</td><td>36</td></tr><tr><td>South Carolina</td><td>19</td></tr><tr><td>Idaho</td><td>11</td></tr><tr><td>Rhode Island</td><td>6</td></tr><tr><td>Nebraska</td><td>10</td></tr><tr><td>Florida</td><td>69</td></tr><tr><td>South Dakota</td><td>3</td></tr><tr><td>Tennessee</td><td>21</td></tr><tr><td>Georgia</td><td>29</td></tr><tr><td>Nevada</td><td>12</td></tr><tr><td>California</td><td>259</td></tr><tr><td>Kentucky</td><td>11</td></tr><tr><td>Wisconsin</td><td>19</td></tr><tr><td>Wyoming</td><td>1</td></tr><tr><td>Utah</td><td>33</td></tr><tr><td>Iowa</td><td>17</td></tr><tr><td>Missouri</td><td>24</td></tr><tr><td>Massachusetts</td><td>32</td></tr><tr><td>North Carolina</td><td>33</td></tr><tr><td>Ohio</td><td>50</td></tr><tr><td>West Virginia</td><td>8</td></tr><tr><td>Minnesota</td><td>32</td></tr><tr><td>Louisiana</td><td>18</td></tr><tr><td>Montana</td><td>6</td></tr><tr><td>Washington</td><td>38</td></tr><tr><td>North Dakota</td><td>3</td></tr><tr><td>New York</td><td>98</td></tr><tr><td>New Hampshire</td><td>2</td></tr><tr><td>Colorado</td><td>31</td></tr><tr><td>New Mexico</td><td>6</td></tr><tr><td>Texas</td><td>141</td></tr><tr><td>Maryland</td><td>8</td></tr><tr><td>Illinois</td><td>55</td></tr><tr><td>Indiana</td><td>26</td></tr><tr><td>Mississippi</td><td>12</td></tr><tr><td>Oklahoma</td><td>29</td></tr><tr><td>Kansas</td><td>16</td></tr><tr><td>Michigan</td><td>52</td></tr><tr><td>Connecticut</td><td>14</td></tr><tr><td>Virginia</td><td>23</td></tr><tr><td>Alabama</td><td>9</td></tr><tr><td>Pennsylvania</td><td>31</td></tr></tbody></table></div>"
      ]
     },
     "metadata": {
      "application/vnd.databricks.v1+output": {
       "addedWidgets": {},
       "aggData": [],
       "aggError": "",
       "aggOverflow": false,
       "aggSchema": [],
       "aggSeriesLimitReached": false,
       "aggType": "",
       "arguments": {},
       "columnCustomDisplayInfos": {},
       "data": [
        [
         "Maine",
         1
        ],
        [
         "New Jersey",
         20
        ],
        [
         null,
         49
        ],
        [
         "Arkansas",
         18
        ],
        [
         "Oregon",
         26
        ],
        [
         "Arizona",
         36
        ],
        [
         "South Carolina",
         19
        ],
        [
         "Idaho",
         11
        ],
        [
         "Rhode Island",
         6
        ],
        [
         "Nebraska",
         10
        ],
        [
         "Florida",
         69
        ],
        [
         "South Dakota",
         3
        ],
        [
         "Tennessee",
         21
        ],
        [
         "Georgia",
         29
        ],
        [
         "Nevada",
         12
        ],
        [
         "California",
         259
        ],
        [
         "Kentucky",
         11
        ],
        [
         "Wisconsin",
         19
        ],
        [
         "Wyoming",
         1
        ],
        [
         "Utah",
         33
        ],
        [
         "Iowa",
         17
        ],
        [
         "Missouri",
         24
        ],
        [
         "Massachusetts",
         32
        ],
        [
         "North Carolina",
         33
        ],
        [
         "Ohio",
         50
        ],
        [
         "West Virginia",
         8
        ],
        [
         "Minnesota",
         32
        ],
        [
         "Louisiana",
         18
        ],
        [
         "Montana",
         6
        ],
        [
         "Washington",
         38
        ],
        [
         "North Dakota",
         3
        ],
        [
         "New York",
         98
        ],
        [
         "New Hampshire",
         2
        ],
        [
         "Colorado",
         31
        ],
        [
         "New Mexico",
         6
        ],
        [
         "Texas",
         141
        ],
        [
         "Maryland",
         8
        ],
        [
         "Illinois",
         55
        ],
        [
         "Indiana",
         26
        ],
        [
         "Mississippi",
         12
        ],
        [
         "Oklahoma",
         29
        ],
        [
         "Kansas",
         16
        ],
        [
         "Michigan",
         52
        ],
        [
         "Connecticut",
         14
        ],
        [
         "Virginia",
         23
        ],
        [
         "Alabama",
         9
        ],
        [
         "Pennsylvania",
         31
        ]
       ],
       "datasetInfos": [],
       "dbfsResultPath": null,
       "isJsonSchema": true,
       "metadata": {},
       "overflow": false,
       "plotOptions": {
        "customPlotOptions": {},
        "displayType": "table",
        "pivotAggregation": null,
        "pivotColumns": null,
        "xColumns": null,
        "yColumns": null
       },
       "removedWidgets": [],
       "schema": [
        {
         "metadata": "{}",
         "name": "state_name",
         "type": "\"string\""
        },
        {
         "metadata": "{}",
         "name": "total_customers",
         "type": "\"long\""
        }
       ],
       "type": "table"
      }
     },
     "output_type": "display_data"
    }
   ],
   "source": [
    "SELECT *\n",
    "FROM customers_per_state_gold;"
   ]
  },
  {
   "cell_type": "markdown",
   "metadata": {
    "application/vnd.databricks.v1+cell": {
     "cellMetadata": {},
     "inputWidgets": {},
     "nuid": "72255480-8366-49ac-82b8-e8f9aac4234f",
     "showTitle": false,
     "tableResultSettingsMap": {},
     "title": ""
    }
   },
   "source": [
    "4. Write the statement to describe detailed information about your materialized view **customers_per_state_gold** to view the refresh information. \n",
    "\n",
    "   Confirm that your **# Refresh Information** section looks similar to this solution example:\n",
    "\n",
    "\n",
    "| **Refresh Information**     |  **Data Type**                      |\n",
    "|-----------------------------|-----------------------------------|\n",
    "| **Last Refreshed**           | 2025-03-20T20:45:05Z (will differ)             |\n",
    "| **Last Refresh Type**        | RECOMPUTED                        |\n",
    "| **Latest Refresh Status**    | Succeeded                         |\n",
    "| **Latest Refresh**           | Your specific refresh |\n",
    "| **Refresh Schedule**         | EVERY 1 DAYS                       |"
   ]
  },
  {
   "cell_type": "code",
   "execution_count": 0,
   "metadata": {
    "application/vnd.databricks.v1+cell": {
     "cellMetadata": {
      "byteLimit": 2048000,
      "rowLimit": 10000
     },
     "inputWidgets": {},
     "nuid": "2561dfef-d23a-4f05-8e51-6037cccce022",
     "showTitle": false,
     "tableResultSettingsMap": {},
     "title": ""
    }
   },
   "outputs": [
    {
     "output_type": "display_data",
     "data": {
      "text/html": [
       "<style scoped>\n",
       "  .table-result-container {\n",
       "    max-height: 300px;\n",
       "    overflow: auto;\n",
       "  }\n",
       "  table, th, td {\n",
       "    border: 1px solid black;\n",
       "    border-collapse: collapse;\n",
       "  }\n",
       "  th, td {\n",
       "    padding: 5px;\n",
       "  }\n",
       "  th {\n",
       "    text-align: left;\n",
       "  }\n",
       "</style><div class='table-result-container'><table class='table-result'><thead style='background-color: white'><tr><th>col_name</th><th>data_type</th><th>comment</th></tr></thead><tbody><tr><td>state_name</td><td>varchar(100)</td><td>null</td></tr><tr><td>total_customers</td><td>bigint</td><td>null</td></tr><tr><td></td><td></td><td></td></tr><tr><td># Detailed Table Information</td><td></td><td></td></tr><tr><td>Catalog</td><td>dbacademy</td><td></td></tr><tr><td>Database</td><td>labuser10602209_1756883952</td><td></td></tr><tr><td>Table</td><td>customers_per_state_gold</td><td></td></tr><tr><td>Owner</td><td>labuser10602209_1756883952@vocareum.com</td><td></td></tr><tr><td>Created Time</td><td>Thu Sep 04 13:34:05 UTC 2025</td><td></td></tr><tr><td>Last Access</td><td>UNKNOWN</td><td></td></tr><tr><td>Created By</td><td>Spark </td><td></td></tr><tr><td>Type</td><td>MATERIALIZED_VIEW</td><td></td></tr><tr><td>View Text</td><td>SELECT\n",
       "  state_name,\n",
       "  COUNT(*) AS total_customers\n",
       "FROM customer_lab_silver\n",
       "GROUP BY state_name\n",
       "ORDER BY total_customers DESC</td><td></td></tr><tr><td>Table Properties</td><td>[pipelines.pipelineId=6a0e423f-e230-4336-ab29-22551af9bc42]</td><td></td></tr><tr><td>Location</td><td>s3://unity-catalogs-us-west-2/metastore/4127107-root/7449b150-30da-4f58-8e85-f80b79dd69a8/tables/d3e32f87-c7b5-4649-afaa-64af75c54004</td><td></td></tr><tr><td>Total Size (bytes)</td><td>1661</td><td></td></tr><tr><td></td><td></td><td></td></tr><tr><td># Refresh Information</td><td></td><td></td></tr><tr><td>Last Refreshed</td><td>2025-09-04T14:03:14Z</td><td></td></tr><tr><td>Last Refresh Type</td><td>NO OPERATION</td><td></td></tr><tr><td>Latest Refresh Status</td><td>Succeeded</td><td></td></tr><tr><td>Latest Refresh</td><td>https://dbc-cd1222a5-0302.cloud.databricks.com/#joblist/pipelines/6a0e423f-e230-4336-ab29-22551af9bc42/updates/f4f1c4e2-2d36-46c2-9af7-4d480fda8fe0</td><td></td></tr><tr><td>Refresh Schedule</td><td>EVERY 1 DAYS</td><td></td></tr></tbody></table></div>"
      ]
     },
     "metadata": {
      "application/vnd.databricks.v1+output": {
       "addedWidgets": {},
       "aggData": [],
       "aggError": "",
       "aggOverflow": false,
       "aggSchema": [],
       "aggSeriesLimitReached": false,
       "aggType": "",
       "arguments": {},
       "columnCustomDisplayInfos": {},
       "data": [
        [
         "state_name",
         "varchar(100)",
         null
        ],
        [
         "total_customers",
         "bigint",
         null
        ],
        [
         "",
         "",
         ""
        ],
        [
         "# Detailed Table Information",
         "",
         ""
        ],
        [
         "Catalog",
         "dbacademy",
         ""
        ],
        [
         "Database",
         "labuser10602209_1756883952",
         ""
        ],
        [
         "Table",
         "customers_per_state_gold",
         ""
        ],
        [
         "Owner",
         "labuser10602209_1756883952@vocareum.com",
         ""
        ],
        [
         "Created Time",
         "Thu Sep 04 13:34:05 UTC 2025",
         ""
        ],
        [
         "Last Access",
         "UNKNOWN",
         ""
        ],
        [
         "Created By",
         "Spark ",
         ""
        ],
        [
         "Type",
         "MATERIALIZED_VIEW",
         ""
        ],
        [
         "View Text",
         "SELECT\n  state_name,\n  COUNT(*) AS total_customers\nFROM customer_lab_silver\nGROUP BY state_name\nORDER BY total_customers DESC",
         ""
        ],
        [
         "Table Properties",
         "[pipelines.pipelineId=6a0e423f-e230-4336-ab29-22551af9bc42]",
         ""
        ],
        [
         "Location",
         "s3://unity-catalogs-us-west-2/metastore/4127107-root/7449b150-30da-4f58-8e85-f80b79dd69a8/tables/d3e32f87-c7b5-4649-afaa-64af75c54004",
         ""
        ],
        [
         "Total Size (bytes)",
         "1661",
         ""
        ],
        [
         "",
         "",
         ""
        ],
        [
         "# Refresh Information",
         "",
         ""
        ],
        [
         "Last Refreshed",
         "2025-09-04T14:03:14Z",
         ""
        ],
        [
         "Last Refresh Type",
         "NO OPERATION",
         ""
        ],
        [
         "Latest Refresh Status",
         "Succeeded",
         ""
        ],
        [
         "Latest Refresh",
         "https://dbc-cd1222a5-0302.cloud.databricks.com/#joblist/pipelines/6a0e423f-e230-4336-ab29-22551af9bc42/updates/f4f1c4e2-2d36-46c2-9af7-4d480fda8fe0",
         ""
        ],
        [
         "Refresh Schedule",
         "EVERY 1 DAYS",
         ""
        ]
       ],
       "datasetInfos": [],
       "dbfsResultPath": null,
       "isJsonSchema": true,
       "metadata": {},
       "overflow": false,
       "plotOptions": {
        "customPlotOptions": {},
        "displayType": "table",
        "pivotAggregation": null,
        "pivotColumns": null,
        "xColumns": null,
        "yColumns": null
       },
       "removedWidgets": [],
       "schema": [
        {
         "metadata": "{}",
         "name": "col_name",
         "type": "\"string\""
        },
        {
         "metadata": "{}",
         "name": "data_type",
         "type": "\"string\""
        },
        {
         "metadata": "{}",
         "name": "comment",
         "type": "\"string\""
        }
       ],
       "type": "table"
      }
     },
     "output_type": "display_data"
    }
   ],
   "source": [
    "DESCRIBE EXTENDED customers_per_state_gold;"
   ]
  },
  {
   "cell_type": "markdown",
   "metadata": {
    "application/vnd.databricks.v1+cell": {
     "cellMetadata": {},
     "inputWidgets": {},
     "nuid": "0b1e7c54-8679-4ef9-ac71-e1cd578647a8",
     "showTitle": false,
     "tableResultSettingsMap": {},
     "title": ""
    }
   },
   "source": [
    "\n",
    "&copy; 2025 Databricks, Inc. All rights reserved. Apache, Apache Spark, Spark, the Spark Logo, Apache Iceberg, Iceberg, and the Apache Iceberg logo are trademarks of the <a href=\"https://www.apache.org/\" target=\"blank\">Apache Software Foundation</a>.<br/>\n",
    "<br/><a href=\"https://databricks.com/privacy-policy\" target=\"blank\">Privacy Policy</a> | \n",
    "<a href=\"https://databricks.com/terms-of-use\" target=\"blank\">Terms of Use</a> | \n",
    "<a href=\"https://help.databricks.com/\" target=\"blank\">Support</a>"
   ]
  }
 ],
 "metadata": {
  "application/vnd.databricks.v1+notebook": {
   "computePreferences": null,
   "dashboards": [],
   "environmentMetadata": null,
   "inputWidgetPreferences": null,
   "language": "sql",
   "notebookMetadata": {
    "pythonIndentUnit": 4
   },
   "notebookName": "3.4 Lab - Manipulate and Analyze a Table",
   "widgets": {}
  },
  "language_info": {
   "name": "sql"
  }
 },
 "nbformat": 4,
 "nbformat_minor": 0
}